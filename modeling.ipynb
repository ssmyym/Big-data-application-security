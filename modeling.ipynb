{
  "cells": [
    {
      "cell_type": "code",
      "execution_count": null,
      "metadata": {
        "colab": {
          "base_uri": "https://localhost:8080/"
        },
        "id": "0XdCoWWHPaYu",
        "outputId": "6a645eb1-f841-4b03-a5cd-d65c895be67b"
      },
      "outputs": [
        {
          "name": "stdout",
          "output_type": "stream",
          "text": [
            "Drive already mounted at /content/drive; to attempt to forcibly remount, call drive.mount(\"/content/drive\", force_remount=True).\n"
          ]
        }
      ],
      "source": [
        "from google.colab import drive\n",
        "import pandas as pd\n",
        "drive.mount('/content/drive')"
      ]
    },
    {
      "cell_type": "markdown",
      "metadata": {
        "id": "shW86Rps2or8"
      },
      "source": [
        "# 데이터 로드 및 토큰화\n"
      ]
    },
    {
      "cell_type": "code",
      "execution_count": 2,
      "metadata": {
        "colab": {
          "base_uri": "https://localhost:8080/",
          "height": 311,
          "referenced_widgets": [
            "7d3f3058980742dd84ccc443bf630e11",
            "79ca6743ce124e238c78aa1e0814895c",
            "60ab46e8cd4648f59ea838fab0bca222",
            "4849b4d6be3a4d8bb99cf9bc01541f09",
            "a10851fb07154b3fa613bdda9869b857",
            "b3d806ab9d38402488c79d5ee433e70e",
            "fc70f483f3454bd3abdb187a32473b75",
            "dc5d2fa77b914a94981205b01e4e7c77",
            "59f4212efa744094b90981dd2507d6e0",
            "8718a76ee4564cd7af67b4a5556aebb5",
            "33edf698d5a64ec2b4cf595c8bde57f7",
            "30ded56fa08240f0b424e9747cb749d4",
            "7b619ea8e7824211b7ececaf6fccb7a7",
            "e63b0c60e9c648d68dcf97a2defda615",
            "b3c7f51412684ddcb3cb9979d5f7715c",
            "bcb4de4923604dcf99ee560e677f181f",
            "16cd32be68664c53b753052901cb0eed",
            "a0a354a636d44e98be47aa916b01b399",
            "7031e5bed0494917bb7875dc303f1b8b",
            "333c4593b1fb42fa8d5518828e4ebb76",
            "f96c46ff4743445696677de2089fdff0",
            "71990f49a0ed46d6bdfc92030d5507ff",
            "bbcb0d4eed1d46839f62ab6938673678",
            "e483fcd6467043d0a6468d1d27a2b217",
            "6b2b6b697e6c4e84ae2c6526c8a9435f",
            "1122637fa8f84f05b8f946bdbd2ac504",
            "7219ef29f4934244b49475c9266043bf",
            "db6888390adb4f7dbcac4f0a02aa3992",
            "d6d1388bce754c288955c27ea79d0028",
            "67a41294363742a7a0f98968344d0d52",
            "47ae471f79d24dbab344652f92da4cd7",
            "21822be52fe74f23a53a282fa5d55b9b",
            "4537961b27944a5cb5903acf34b72992",
            "cf0fec05370c44de89c9049d9dc6e455",
            "6a0532c8e38d468eba8ff8547f660d56",
            "9b8ec367ec1b403b9ffe237c079f9a14",
            "918b44a24a9e4c97a50dd8632de998c7",
            "b47f5462e7b543609b11b1730b61507c",
            "08020a14f4f045888f4589b275935a94",
            "1755ad8dcfed4554b8ea3c5f4493a3bd",
            "fb1c4db9c8c54c63934ed3781ce9b32e",
            "8bcfc9f2e3fa4214972a1a33df2ae536",
            "535ba94016ea4a4b98acb947d7429936",
            "fd1a4f6e29b1428db87df1e0c79367c8"
          ]
        },
        "id": "NOWtux4ePOyA",
        "outputId": "d1c3f62b-989c-435b-83b7-147e5aa15ddd"
      },
      "outputs": [
        {
          "name": "stderr",
          "output_type": "stream",
          "text": [
            "/usr/local/lib/python3.10/dist-packages/huggingface_hub/utils/_token.py:89: UserWarning: \n",
            "The secret `HF_TOKEN` does not exist in your Colab secrets.\n",
            "To authenticate with the Hugging Face Hub, create a token in your settings tab (https://huggingface.co/settings/tokens), set it as secret in your Google Colab and restart your session.\n",
            "You will be able to reuse this secret in all of your notebooks.\n",
            "Please note that authentication is recommended but still optional to access public models or datasets.\n",
            "  warnings.warn(\n"
          ]
        },
        {
          "data": {
            "application/vnd.jupyter.widget-view+json": {
              "model_id": "7d3f3058980742dd84ccc443bf630e11",
              "version_major": 2,
              "version_minor": 0
            },
            "text/plain": [
              "tokenizer_config.json:   0%|          | 0.00/48.0 [00:00<?, ?B/s]"
            ]
          },
          "metadata": {},
          "output_type": "display_data"
        },
        {
          "data": {
            "application/vnd.jupyter.widget-view+json": {
              "model_id": "30ded56fa08240f0b424e9747cb749d4",
              "version_major": 2,
              "version_minor": 0
            },
            "text/plain": [
              "vocab.txt:   0%|          | 0.00/232k [00:00<?, ?B/s]"
            ]
          },
          "metadata": {},
          "output_type": "display_data"
        },
        {
          "data": {
            "application/vnd.jupyter.widget-view+json": {
              "model_id": "bbcb0d4eed1d46839f62ab6938673678",
              "version_major": 2,
              "version_minor": 0
            },
            "text/plain": [
              "tokenizer.json:   0%|          | 0.00/466k [00:00<?, ?B/s]"
            ]
          },
          "metadata": {},
          "output_type": "display_data"
        },
        {
          "name": "stderr",
          "output_type": "stream",
          "text": [
            "/usr/local/lib/python3.10/dist-packages/huggingface_hub/file_download.py:1132: FutureWarning: `resume_download` is deprecated and will be removed in version 1.0.0. Downloads always resume when possible. If you want to force a new download, use `force_download=True`.\n",
            "  warnings.warn(\n"
          ]
        },
        {
          "data": {
            "application/vnd.jupyter.widget-view+json": {
              "model_id": "cf0fec05370c44de89c9049d9dc6e455",
              "version_major": 2,
              "version_minor": 0
            },
            "text/plain": [
              "config.json:   0%|          | 0.00/483 [00:00<?, ?B/s]"
            ]
          },
          "metadata": {},
          "output_type": "display_data"
        }
      ],
      "source": [
        "import torch\n",
        "from transformers import DistilBertTokenizer, DistilBertForSequenceClassification, AdamW\n",
        "from sklearn.model_selection import train_test_split\n",
        "from sklearn.metrics import accuracy_score\n",
        "import pandas as pd\n",
        "from torch.utils.data import DataLoader, TensorDataset, RandomSampler, SequentialSampler\n",
        "import numpy as np\n",
        "\n",
        "# 데이터 로드\n",
        "file_path = '/content/drive/MyDrive/bigdata_security/EDA_Dup_Oversampling.csv'\n",
        "df = pd.read_csv(file_path)\n",
        "# 입력 문장과 레이블 추출\n",
        "sentences = df['full_log'].tolist()\n",
        "labels = df['level'].tolist()\n",
        "\n",
        "# DistilBERT 토크나이저 로드\n",
        "tokenizer = DistilBertTokenizer.from_pretrained('distilbert-base-uncased')\n",
        "\n",
        "# 문장을 토큰화하고 패딩\n",
        "tokenized_texts = [tokenizer.encode_plus(\n",
        "    sent,\n",
        "    add_special_tokens=True,\n",
        "    max_length=200,\n",
        "    truncation=True,\n",
        "    padding='max_length',\n",
        "    return_attention_mask=True,\n",
        "    return_tensors='pt'\n",
        ") for sent in sentences]\n",
        "\n",
        "# 입력 IDs와 어텐션 마스크 추출 및 스택\n",
        "input_ids = torch.cat([item['input_ids'] for item in tokenized_texts], dim=0)\n",
        "attention_masks = torch.cat([item['attention_mask'] for item in tokenized_texts], dim=0)\n",
        "\n",
        "# 훈련 데이터와 테스트 데이터로 분리\n",
        "train_inputs, test_inputs, train_labels, test_labels, train_masks, test_masks = train_test_split(\n",
        "    input_ids, labels,attention_masks, test_size=0.2, random_state=42\n",
        ")\n"
      ]
    },
    {
      "cell_type": "markdown",
      "metadata": {
        "id": "G2QpStWN2lgo"
      },
      "source": [
        "# 모델 학습\n",
        "## 모델 학습 기본값 = 0.85 나온 모델"
      ]
    },
    {
      "cell_type": "code",
      "execution_count": null,
      "metadata": {
        "colab": {
          "base_uri": "https://localhost:8080/"
        },
        "id": "vFKIHHcfPO1T",
        "outputId": "a24aef93-8e6b-468b-d58c-1f7bc4afa0f0"
      },
      "outputs": [
        {
          "name": "stderr",
          "output_type": "stream",
          "text": [
            "<ipython-input-33-4477b5f77c7f>:8: UserWarning: To copy construct from a tensor, it is recommended to use sourceTensor.clone().detach() or sourceTensor.clone().detach().requires_grad_(True), rather than torch.tensor(sourceTensor).\n",
            "  train_inputs = torch.tensor(train_inputs)\n",
            "<ipython-input-33-4477b5f77c7f>:9: UserWarning: To copy construct from a tensor, it is recommended to use sourceTensor.clone().detach() or sourceTensor.clone().detach().requires_grad_(True), rather than torch.tensor(sourceTensor).\n",
            "  train_masks = torch.tensor(train_masks)\n",
            "<ipython-input-33-4477b5f77c7f>:10: UserWarning: To copy construct from a tensor, it is recommended to use sourceTensor.clone().detach() or sourceTensor.clone().detach().requires_grad_(True), rather than torch.tensor(sourceTensor).\n",
            "  train_labels = torch.tensor(train_labels)\n",
            "/usr/local/lib/python3.10/dist-packages/transformers/optimization.py:588: FutureWarning: This implementation of AdamW is deprecated and will be removed in a future version. Use the PyTorch implementation torch.optim.AdamW instead, or set `no_deprecation_warning=True` to disable this warning\n",
            "  warnings.warn(\n"
          ]
        },
        {
          "name": "stdout",
          "output_type": "stream",
          "text": [
            "Epoch 1, Training loss: 0.0736, Time: 727.23 seconds\n"
          ]
        },
        {
          "name": "stderr",
          "output_type": "stream",
          "text": []
        },
        {
          "name": "stdout",
          "output_type": "stream",
          "text": [
            "Epoch 2, Training loss: 0.0223, Time: 732.63 seconds\n"
          ]
        },
        {
          "name": "stderr",
          "output_type": "stream",
          "text": []
        },
        {
          "name": "stdout",
          "output_type": "stream",
          "text": [
            "Epoch 3, Training loss: 0.0182, Time: 731.85 seconds\n"
          ]
        },
        {
          "name": "stderr",
          "output_type": "stream",
          "text": []
        },
        {
          "name": "stdout",
          "output_type": "stream",
          "text": [
            "Epoch 4, Training loss: 0.0164, Time: 732.35 seconds\n"
          ]
        },
        {
          "name": "stderr",
          "output_type": "stream",
          "text": []
        },
        {
          "name": "stdout",
          "output_type": "stream",
          "text": [
            "Epoch 5, Training loss: 0.0139, Time: 732.22 seconds\n"
          ]
        },
        {
          "name": "stderr",
          "output_type": "stream",
          "text": []
        },
        {
          "name": "stdout",
          "output_type": "stream",
          "text": [
            "Epoch 6, Training loss: 0.0118, Time: 731.84 seconds\n"
          ]
        },
        {
          "name": "stderr",
          "output_type": "stream",
          "text": []
        },
        {
          "name": "stdout",
          "output_type": "stream",
          "text": [
            "Epoch 7, Training loss: 0.0105, Time: 731.61 seconds\n"
          ]
        },
        {
          "name": "stderr",
          "output_type": "stream",
          "text": []
        },
        {
          "name": "stdout",
          "output_type": "stream",
          "text": [
            "Epoch 8, Training loss: 0.0092, Time: 731.10 seconds\n"
          ]
        },
        {
          "name": "stderr",
          "output_type": "stream",
          "text": []
        },
        {
          "name": "stdout",
          "output_type": "stream",
          "text": [
            "Epoch 9, Training loss: 0.0078, Time: 731.55 seconds\n"
          ]
        },
        {
          "name": "stderr",
          "output_type": "stream",
          "text": [
            "                                                                             "
          ]
        },
        {
          "name": "stdout",
          "output_type": "stream",
          "text": [
            "Epoch 10, Training loss: 0.0059, Time: 731.99 seconds\n"
          ]
        },
        {
          "name": "stderr",
          "output_type": "stream",
          "text": [
            "\r"
          ]
        }
      ],
      "source": [
        "import time\n",
        "from tqdm import tqdm\n",
        "import torch\n",
        "from torch.utils.data import TensorDataset, DataLoader, RandomSampler\n",
        "from transformers import DistilBertForSequenceClassification, DistilBertConfig, AdamW\n",
        "\n",
        "# 데이터가 리스트일 경우 Tensor로 변환\n",
        "train_inputs = torch.tensor(train_inputs)\n",
        "train_masks = torch.tensor(train_masks)\n",
        "train_labels = torch.tensor(train_labels)\n",
        "\n",
        "# 데이터로더 생성\n",
        "dataset = TensorDataset(train_inputs, train_masks, train_labels)\n",
        "batch_size = 64\n",
        "\n",
        "# GPU 사용 여부 확인\n",
        "device = torch.device(\"cuda\" if torch.cuda.is_available() else \"cpu\")\n",
        "\n",
        "# 데이터로더 및 모델을 GPU로 이동\n",
        "dataloader = DataLoader(\n",
        "    dataset,\n",
        "    sampler=RandomSampler(dataset),  # 무작위 샘플링\n",
        "    batch_size=batch_size\n",
        ")\n",
        "\n",
        "# 모델 구성 설정\n",
        "config = DistilBertConfig.from_pretrained('distilbert-base-uncased', num_labels=7)\n",
        "config.max_position_embeddings = 200  # max_position_embeddings 값을 200으로 설정\n",
        "\n",
        "model = DistilBertForSequenceClassification(config=config)\n",
        "model.to(device)\n",
        "optimizer = AdamW(model.parameters(), lr=2e-5)\n",
        "\n",
        "# 학습 함수 정의\n",
        "def train(model, dataloader, optimizer, device):\n",
        "    model.train()\n",
        "    total_loss = 0\n",
        "    progress_bar = tqdm(dataloader, desc=\"Training\", leave=False)\n",
        "    for batch in progress_bar:\n",
        "        batch_inputs, batch_masks, batch_labels = batch\n",
        "        batch_inputs = batch_inputs.to(device)\n",
        "        batch_masks = batch_masks.to(device)\n",
        "        batch_labels = batch_labels.to(device)\n",
        "\n",
        "        model.zero_grad()\n",
        "        outputs = model(input_ids=batch_inputs, attention_mask=batch_masks, labels=batch_labels)\n",
        "        loss = outputs.loss\n",
        "        total_loss += loss.item()\n",
        "        loss.backward()\n",
        "        optimizer.step()\n",
        "        progress_bar.set_postfix({'avg_loss': total_loss / len(progress_bar)})\n",
        "    return total_loss / len(dataloader)\n",
        "\n",
        "# 모델 학습 및 평가\n",
        "epochs = 10\n",
        "patience = 3\n",
        "best_val_loss = 11111\n",
        "for epoch in range(epochs):\n",
        "    start_time = time.time()\n",
        "    avg_train_loss = train(model, dataloader, optimizer, device)\n",
        "    end_time = time.time()\n",
        "    epoch_time = end_time - start_time\n",
        "    print(f'Epoch {epoch+1}, Training loss: {avg_train_loss:.4f}, Time: {epoch_time:.2f} seconds')\n",
        "\n",
        "    # Early stopping\n",
        "    if avg_train_loss < best_val_loss:\n",
        "        best_val_loss = avg_train_loss\n",
        "        patience_counter = 0\n",
        "    else:\n",
        "        patience_counter += 1\n",
        "\n",
        "    if patience_counter >= patience:\n",
        "        print(f'Early stopping triggered after {epoch+1} epochs.')\n",
        "        break\n"
      ]
    },
    {
      "cell_type": "markdown",
      "metadata": {
        "id": "Y5trIumf2vj6"
      },
      "source": [
        "## 모델 튜닝 값 추가한 모델 학습 - 0.86나옴"
      ]
    },
    {
      "cell_type": "code",
      "execution_count": 3,
      "metadata": {
        "colab": {
          "base_uri": "https://localhost:8080/"
        },
        "id": "DYm9-gLw2ywI",
        "outputId": "c9a8d805-bb66-4f3f-fd43-ad2f45d9b051"
      },
      "outputs": [
        {
          "name": "stderr",
          "output_type": "stream",
          "text": [
            "<ipython-input-3-762063272c21>:9: UserWarning: To copy construct from a tensor, it is recommended to use sourceTensor.clone().detach() or sourceTensor.clone().detach().requires_grad_(True), rather than torch.tensor(sourceTensor).\n",
            "  train_inputs = torch.tensor(train_inputs)\n",
            "<ipython-input-3-762063272c21>:10: UserWarning: To copy construct from a tensor, it is recommended to use sourceTensor.clone().detach() or sourceTensor.clone().detach().requires_grad_(True), rather than torch.tensor(sourceTensor).\n",
            "  train_masks = torch.tensor(train_masks)\n",
            "/usr/local/lib/python3.10/dist-packages/transformers/optimization.py:588: FutureWarning: This implementation of AdamW is deprecated and will be removed in a future version. Use the PyTorch implementation torch.optim.AdamW instead, or set `no_deprecation_warning=True` to disable this warning\n",
            "  warnings.warn(\n",
            "/usr/local/lib/python3.10/dist-packages/torch/optim/lr_scheduler.py:28: UserWarning: The verbose parameter is deprecated. Please use get_last_lr() to access the learning rate.\n",
            "  warnings.warn(\"The verbose parameter is deprecated. Please use get_last_lr() \"\n"
          ]
        },
        {
          "name": "stdout",
          "output_type": "stream",
          "text": [
            "Epoch 1, Training loss: 0.0359, Time: 767.93 seconds\n"
          ]
        },
        {
          "name": "stderr",
          "output_type": "stream",
          "text": []
        },
        {
          "name": "stdout",
          "output_type": "stream",
          "text": [
            "Epoch 2, Training loss: 0.0096, Time: 770.80 seconds\n"
          ]
        },
        {
          "name": "stderr",
          "output_type": "stream",
          "text": []
        },
        {
          "name": "stdout",
          "output_type": "stream",
          "text": [
            "Epoch 3, Training loss: 0.0069, Time: 769.56 seconds\n"
          ]
        },
        {
          "name": "stderr",
          "output_type": "stream",
          "text": []
        },
        {
          "name": "stdout",
          "output_type": "stream",
          "text": [
            "Epoch 4, Training loss: 0.0058, Time: 768.28 seconds\n"
          ]
        },
        {
          "name": "stderr",
          "output_type": "stream",
          "text": []
        },
        {
          "name": "stdout",
          "output_type": "stream",
          "text": [
            "Epoch 5, Training loss: 0.0055, Time: 768.78 seconds\n"
          ]
        },
        {
          "name": "stderr",
          "output_type": "stream",
          "text": []
        },
        {
          "name": "stdout",
          "output_type": "stream",
          "text": [
            "Epoch 6, Training loss: 0.0048, Time: 769.39 seconds\n"
          ]
        },
        {
          "name": "stderr",
          "output_type": "stream",
          "text": []
        },
        {
          "name": "stdout",
          "output_type": "stream",
          "text": [
            "Epoch 7, Training loss: 0.0041, Time: 767.12 seconds\n"
          ]
        },
        {
          "name": "stderr",
          "output_type": "stream",
          "text": []
        },
        {
          "name": "stdout",
          "output_type": "stream",
          "text": [
            "Epoch 8, Training loss: 0.0034, Time: 758.63 seconds\n"
          ]
        },
        {
          "name": "stderr",
          "output_type": "stream",
          "text": []
        },
        {
          "name": "stdout",
          "output_type": "stream",
          "text": [
            "Epoch 9, Training loss: 0.0029, Time: 768.68 seconds\n"
          ]
        },
        {
          "name": "stderr",
          "output_type": "stream",
          "text": [
            "                                                                               "
          ]
        },
        {
          "name": "stdout",
          "output_type": "stream",
          "text": [
            "Epoch 10, Training loss: 0.0026, Time: 768.59 seconds\n"
          ]
        },
        {
          "name": "stderr",
          "output_type": "stream",
          "text": [
            "\r"
          ]
        }
      ],
      "source": [
        "import time\n",
        "from tqdm import tqdm\n",
        "import torch\n",
        "from torch.utils.data import TensorDataset, DataLoader, RandomSampler\n",
        "from transformers import DistilBertForSequenceClassification, DistilBertConfig, AdamW\n",
        "from torch.optim.lr_scheduler import ReduceLROnPlateau\n",
        "\n",
        "# 데이터가 리스트일 경우 Tensor로 변환\n",
        "train_inputs = torch.tensor(train_inputs)\n",
        "train_masks = torch.tensor(train_masks)\n",
        "train_labels = torch.tensor(train_labels)\n",
        "\n",
        "# 데이터로더 생성\n",
        "dataset = TensorDataset(train_inputs, train_masks, train_labels)\n",
        "batch_size = 35  # 설정 파일에서 가져온 batch_size\n",
        "\n",
        "# GPU 사용 여부 확인\n",
        "device = torch.device(\"cuda\" if torch.cuda.is_available() else \"cpu\")\n",
        "\n",
        "# 데이터로더 및 모델을 GPU로 이동\n",
        "dataloader = DataLoader(\n",
        "    dataset,\n",
        "    sampler=RandomSampler(dataset),  # 무작위 샘플링\n",
        "    batch_size=batch_size\n",
        ")\n",
        "\n",
        "# 모델 구성 설정\n",
        "config = DistilBertConfig.from_pretrained('distilbert-base-uncased', num_labels=8)\n",
        "config.max_position_embeddings = 200  # max_position_embeddings 값을 200으로 설정\n",
        "\n",
        "model = DistilBertForSequenceClassification(config=config)\n",
        "model.to(device)\n",
        "\n",
        "# Optimizer 설정 파일에서 AdamW로 설정\n",
        "optimizer = AdamW(model.parameters(), lr=1e-5)  # 설정 파일에서 lr 가져옴\n",
        "\n",
        "# Scheduler 설정 파일에서 ReduceLROnPlateau로 설정\n",
        "scheduler = ReduceLROnPlateau(optimizer, factor=0.5, patience=3, verbose=True)\n",
        "\n",
        "# Loss 함수 (여기서는 focal loss를 사용한다고 가정합니다)\n",
        "class FocalLoss(torch.nn.Module):\n",
        "    def __init__(self, gamma=2.0):\n",
        "        super(FocalLoss, self).__init__()\n",
        "        self.gamma = gamma\n",
        "\n",
        "    def forward(self, inputs, targets):\n",
        "        BCE_loss = torch.nn.functional.cross_entropy(inputs, targets, reduction='none')\n",
        "        pt = torch.exp(-BCE_loss)\n",
        "        F_loss = (1 - pt) ** self.gamma * BCE_loss\n",
        "        return F_loss.mean()\n",
        "\n",
        "criterion = FocalLoss(gamma=2.0)  # 설정 파일에서 gamma 가져옴\n",
        "\n",
        "# 학습 함수 정의\n",
        "def train(model, dataloader, optimizer, criterion, device):\n",
        "    model.train()\n",
        "    total_loss = 0\n",
        "    progress_bar = tqdm(dataloader, desc=\"Training\", leave=False)\n",
        "    for batch in progress_bar:\n",
        "        batch_inputs, batch_masks, batch_labels = batch\n",
        "        batch_inputs = batch_inputs.to(device)\n",
        "        batch_masks = batch_masks.to(device)\n",
        "        batch_labels = batch_labels.to(device)\n",
        "\n",
        "        model.zero_grad()\n",
        "        outputs = model(input_ids=batch_inputs, attention_mask=batch_masks)\n",
        "        logits = outputs.logits\n",
        "        loss = criterion(logits, batch_labels)\n",
        "        total_loss += loss.item()\n",
        "        loss.backward()\n",
        "        optimizer.step()\n",
        "        progress_bar.set_postfix({'avg_loss': total_loss / len(progress_bar)})\n",
        "    return total_loss / len(dataloader)\n",
        "\n",
        "# 모델 학습 및 평가\n",
        "epochs = 10  # 설정 파일에서 가져온 max_epochs\n",
        "patience = 3  # 설정 파일에서 scheduler의 patience 가져옴\n",
        "best_val_loss = float('inf')\n",
        "patience_counter = 0\n",
        "\n",
        "for epoch in range(epochs):\n",
        "    start_time = time.time()\n",
        "    avg_train_loss = train(model, dataloader, optimizer, criterion, device)\n",
        "    end_time = time.time()\n",
        "    epoch_time = end_time - start_time\n",
        "    print(f'Epoch {epoch+1}, Training loss: {avg_train_loss:.4f}, Time: {epoch_time:.2f} seconds')\n",
        "\n",
        "    # Scheduler step\n",
        "    scheduler.step(avg_train_loss)\n",
        "\n",
        "    # Early stopping\n",
        "    if avg_train_loss < best_val_loss:\n",
        "        best_val_loss = avg_train_loss\n",
        "        patience_counter = 0\n",
        "    else:\n",
        "        patience_counter += 1\n",
        "\n",
        "    if patience_counter >= patience:\n",
        "        print(f'Early stopping triggered after {epoch+1} epochs.')\n",
        "        break\n"
      ]
    },
    {
      "cell_type": "markdown",
      "metadata": {
        "id": "VMd-_Abd2y-p"
      },
      "source": [
        "## 모델 저장"
      ]
    },
    {
      "cell_type": "code",
      "execution_count": 4,
      "metadata": {
        "colab": {
          "base_uri": "https://localhost:8080/"
        },
        "id": "AN7Ah94uWFWI",
        "outputId": "d05f8860-2303-481d-ee07-fa1084c7e60c"
      },
      "outputs": [
        {
          "name": "stdout",
          "output_type": "stream",
          "text": [
            "Final model saved to /content/drive/MyDrive/final_model_save_200_tuned_for7\n"
          ]
        }
      ],
      "source": [
        "final_model_save_path = '/content/drive/MyDrive/final_model_save_200_tuned_for7'\n",
        "model.save_pretrained(final_model_save_path)\n",
        "print(f'Final model saved to {final_model_save_path}')"
      ]
    },
    {
      "cell_type": "markdown",
      "metadata": {
        "id": "KoIC1Pxa22Pu"
      },
      "source": [
        "## 모델 평가\n",
        "- 과대적합남"
      ]
    },
    {
      "cell_type": "code",
      "execution_count": 17,
      "metadata": {
        "colab": {
          "base_uri": "https://localhost:8080/"
        },
        "id": "Ut5ngm2fPRZ5",
        "outputId": "a705c52b-f707-4ee2-aec3-a2a708b86905"
      },
      "outputs": [
        {
          "name": "stderr",
          "output_type": "stream",
          "text": [
            "<ipython-input-17-4d904c4abc67>:1: UserWarning: To copy construct from a tensor, it is recommended to use sourceTensor.clone().detach() or sourceTensor.clone().detach().requires_grad_(True), rather than torch.tensor(sourceTensor).\n",
            "  test_inputs = torch.tensor(test_inputs)\n",
            "<ipython-input-17-4d904c4abc67>:2: UserWarning: To copy construct from a tensor, it is recommended to use sourceTensor.clone().detach() or sourceTensor.clone().detach().requires_grad_(True), rather than torch.tensor(sourceTensor).\n",
            "  test_masks = torch.tensor(test_masks)\n"
          ]
        },
        {
          "name": "stdout",
          "output_type": "stream",
          "text": [
            "Test Accuracy: 0.9905510494188478\n"
          ]
        }
      ],
      "source": [
        "test_inputs = torch.tensor(test_inputs)\n",
        "test_masks = torch.tensor(test_masks)\n",
        "test_labels = torch.tensor(test_labels)\n",
        "\n",
        "dataset = TensorDataset(test_inputs, test_masks, test_labels)\n",
        "batch_size = 64\n",
        "\n",
        "dataloader = DataLoader(\n",
        "    dataset,\n",
        "    sampler=RandomSampler(dataset), # 무작위 샘플링\n",
        "    batch_size=batch_size\n",
        ")\n",
        "\n",
        "# 평가 함수 정의\n",
        "def evaluate(model, test_dataloader, device):\n",
        "    model.eval()\n",
        "    preds, true_labels = [], []\n",
        "    for batch in test_dataloader:\n",
        "        batch_inputs, batch_masks, batch_labels = [b.to(device) for b in batch]\n",
        "        with torch.no_grad():\n",
        "            outputs = model(input_ids=batch_inputs, attention_mask=batch_masks)\n",
        "        logits = outputs.logits\n",
        "        preds.append(logits.argmax(dim=1).cpu().numpy())\n",
        "        true_labels.append(batch_labels.cpu().numpy())\n",
        "    preds = np.concatenate(preds, axis=0)\n",
        "    true_labels = np.concatenate(true_labels, axis=0)\n",
        "    accuracy = accuracy_score(true_labels, preds)\n",
        "    return accuracy\n",
        "\n",
        "accuracy = evaluate(model, dataloader, device)\n",
        "print(f'Test Accuracy: {accuracy}')"
      ]
    },
    {
      "cell_type": "markdown",
      "metadata": {
        "id": "Ux_nyMIHchJ6"
      },
      "source": [
        "# 제출물 생성"
      ]
    },
    {
      "cell_type": "code",
      "execution_count": 2,
      "metadata": {
        "colab": {
          "base_uri": "https://localhost:8080/"
        },
        "id": "tHT0S0SKCWNv",
        "outputId": "dbb87e0d-36c8-464e-aa4c-d36dcbbd9eb9"
      },
      "outputs": [
        {
          "name": "stdout",
          "output_type": "stream",
          "text": [
            "Drive already mounted at /content/drive; to attempt to forcibly remount, call drive.mount(\"/content/drive\", force_remount=True).\n"
          ]
        }
      ],
      "source": [
        "from google.colab import drive\n",
        "import pandas as pd\n",
        "drive.mount('/content/drive')"
      ]
    },
    {
      "cell_type": "code",
      "execution_count": 6,
      "metadata": {
        "colab": {
          "base_uri": "https://localhost:8080/"
        },
        "id": "thjJ_QfhCPZI",
        "outputId": "452c808f-8071-4191-b6b7-5fe70c98836c"
      },
      "outputs": [
        {
          "name": "stdout",
          "output_type": "stream",
          "text": [
            "Model loaded successfully\n"
          ]
        }
      ],
      "source": [
        "from transformers import DistilBertForSequenceClassification, DistilBertConfig\n",
        "from safetensors.torch import load_file\n",
        "import os\n",
        "import torch\n",
        "\n",
        "# 모델 구성 로드\n",
        "model_save_path = '/content/drive/MyDrive/final_model_save_200_tuned_for7'\n",
        "\n",
        "# Config 파일을 저장된 경로에서 로드\n",
        "config_path = os.path.join(model_save_path, 'config.json')\n",
        "config = DistilBertConfig.from_pretrained(config_path)\n",
        "\n",
        "# 모델 생성\n",
        "model_v = DistilBertForSequenceClassification(config)\n",
        "state_dict = load_file(os.path.join(model_save_path, 'model.safetensors'))\n",
        "\n",
        "# GPU 사용 여부 확인\n",
        "device = torch.device(\"cuda\" if torch.cuda.is_available() else \"cpu\")\n",
        "\n",
        "# 가중치 로드\n",
        "model_v.load_state_dict(state_dict)\n",
        "model_v.to(device)  # GPU 사용 시\n",
        "print(\"Model loaded successfully\")\n"
      ]
    },
    {
      "cell_type": "markdown",
      "metadata": {
        "id": "8zqRjHd829_U"
      },
      "source": [
        "## submission token화 데이터 로드"
      ]
    },
    {
      "cell_type": "code",
      "execution_count": 7,
      "metadata": {
        "id": "iWjwasYXQ4NQ"
      },
      "outputs": [],
      "source": [
        "import torch\n",
        "\n",
        "# 파일에서 텐서 로드\n",
        "attention_masks = torch.load('/content/drive/MyDrive/bigdata_security/attendtion_masks.pt')\n",
        "input_ids = torch.load('/content/drive/MyDrive/bigdata_security/input_ids.pt')"
      ]
    },
    {
      "cell_type": "markdown",
      "metadata": {
        "id": "TGl4qQ5p3C_C"
      },
      "source": [
        "## 저장할 dataframe 생성"
      ]
    },
    {
      "cell_type": "code",
      "execution_count": 8,
      "metadata": {
        "colab": {
          "base_uri": "https://localhost:8080/"
        },
        "id": "uo_tT49PaUJB",
        "outputId": "0033d534-5d1e-4af0-b0b9-37c01aeb3104"
      },
      "outputs": [
        {
          "name": "stdout",
          "output_type": "stream",
          "text": [
            "0\n"
          ]
        },
        {
          "data": {
            "text/plain": [
              "200"
            ]
          },
          "execution_count": 8,
          "metadata": {},
          "output_type": "execute_result"
        }
      ],
      "source": [
        "\n",
        "predict_val = []\n",
        "import pandas as pd\n",
        "# 새로운 데이터프레임 생성\n",
        "new_df = pd.DataFrame(columns = ['id', 'level'])\n",
        "# new_df = pd.read_csv('/content/drive/MyDrive/bigdata_security/model_submission/bert_trained_7data.csv')\n",
        "start_id = 1000000\n",
        "print(len(new_df))\n",
        "model_v.config.max_position_embeddings"
      ]
    },
    {
      "cell_type": "markdown",
      "metadata": {
        "id": "4yDu9zDy3KNQ"
      },
      "source": [
        "## Predict 수행 후 저장"
      ]
    },
    {
      "cell_type": "code",
      "execution_count": null,
      "metadata": {
        "colab": {
          "base_uri": "https://localhost:8080/"
        },
        "id": "V2pnJuJrXOpP",
        "outputId": "fae425ff-b6f1-4e00-b2f6-73c82f7b5706"
      },
      "outputs": [
        {
          "name": "stdout",
          "output_type": "stream",
          "text": [
            "2300_th data is evaluating\n",
            "4000_th data is evaluating\n",
            "9300_th data is evaluating\n",
            "11000_th data is evaluating\n",
            "32000_th data is evaluating\n",
            "38100_th data is evaluating\n",
            "39200_th data is evaluating\n",
            "43500_th data is evaluating\n",
            "48700_th data is evaluating\n",
            "61900_th data is evaluating\n",
            "79600_th data is evaluating\n",
            "81000_th data is evaluating\n",
            "85400_th data is evaluating\n",
            "105100_th data is evaluating\n",
            "105200_th data is evaluating\n",
            "110600_th data is evaluating\n",
            "114700_th data is evaluating\n",
            "123700_th data is evaluating\n",
            "140500_th data is evaluating\n",
            "145500_th data is evaluating\n",
            "149400_th data is evaluating\n",
            "166300_th data is evaluating\n",
            "174500_th data is evaluating\n",
            "187300_th data is evaluating\n",
            "194700_th data is evaluating\n",
            "229100_th data is evaluating\n",
            "236000_th data is evaluating\n",
            "260500_th data is evaluating\n",
            "273900_th data is evaluating\n",
            "287400_th data is evaluating\n",
            "292100_th data is evaluating\n",
            "295100_th data is evaluating\n",
            "313100_th data is evaluating\n",
            "315400_th data is evaluating\n",
            "316500_th data is evaluating\n",
            "323800_th data is evaluating\n",
            "331900_th data is evaluating\n",
            "339400_th data is evaluating\n",
            "372100_th data is evaluating\n",
            "376200_th data is evaluating\n",
            "379600_th data is evaluating\n",
            "385800_th data is evaluating\n",
            "394600_th data is evaluating\n",
            "416500_th data is evaluating\n",
            "419100_th data is evaluating\n",
            "437300_th data is evaluating\n",
            "438900_th data is evaluating\n",
            "463000_th data is evaluating\n",
            "473100_th data is evaluating\n",
            "478900_th data is evaluating\n",
            "492200_th data is evaluating\n",
            "509400_th data is evaluating\n",
            "509500_th data is evaluating\n",
            "518500_th data is evaluating\n",
            "523600_th data is evaluating\n"
          ]
        }
      ],
      "source": [
        "import torch\n",
        "import numpy as np\n",
        "import pandas as pd\n",
        "import time\n",
        "import torch.nn.functional as F\n",
        "import random\n",
        "\n",
        "# Ensure that all tensors and the model are on the same device\n",
        "device = torch.device(\"cuda\" if torch.cuda.is_available() else \"cpu\")\n",
        "model_v.to(device)\n",
        "input_ids = input_ids.to(device)\n",
        "attention_masks = attention_masks.to(device)\n",
        "batch_size = 100\n",
        "\n",
        "model_v.eval()\n",
        "for i in range(len(new_df), len(input_ids), batch_size):\n",
        "    start_id = 1000000+i\n",
        "    if random.randint(0,100) == 0:\n",
        "      print(f'{i}_th data is evaluating')\n",
        "      new_df.to_csv('/content/drive/MyDrive/bigdata_security/model_submission/final_model_save_200_tuned_for7.csv', index=False)\n",
        "    predictions = []\n",
        "\n",
        "    with torch.no_grad():\n",
        "        outputs = model_v(input_ids[i:i+batch_size], attention_mask=attention_masks[i:i+batch_size])\n",
        "        logits = outputs.logits\n",
        "\n",
        "    # Softmax 함수를 Numpy로 대체하여 확률 계산\n",
        "    exp_logits = F.softmax(logits, dim=-1)\n",
        "    # Numpy로 argmax 대체\n",
        "    max_indices = np.argmax(exp_logits.cpu().numpy(), axis=1)\n",
        "    max_probs = np.max(exp_logits.cpu().numpy(), axis=1)\n",
        "\n",
        "    predictions = max_indices\n",
        "    # predictions = np.where(max_probs < 0.66, 7, max_indices)\n",
        "    prediction_id = np.arange(start_id, start_id +  len(predictions))\n",
        "\n",
        "    predictions_df = pd.DataFrame({'id': prediction_id, 'level': predictions})\n",
        "\n",
        "    new_df = pd.concat([new_df, predictions_df], ignore_index=True)\n",
        "new_df.to_csv('/content/drive/MyDrive/bigdata_security/model_submission/final_model_save_200_tuned_for7.csv', index=False)\n"
      ]
    },
    {
      "cell_type": "code",
      "execution_count": null,
      "metadata": {
        "id": "BQTSRa-A_cVG"
      },
      "outputs": [],
      "source": [
        "new_df.to_csv('/content/drive/MyDrive/bigdata_security/model_submission/final_model_save_200_tuned_for7Z.csv', index=False)\n"
      ]
    },
    {
      "cell_type": "code",
      "execution_count": null,
      "metadata": {
        "id": "Z7tDwaL-oIuK"
      },
      "outputs": [],
      "source": [
        "\n",
        "new_df['level'].value_counts()"
      ]
    }
  ],
  "metadata": {
    "accelerator": "GPU",
    "colab": {
      "gpuType": "T4",
      "machine_shape": "hm",
      "provenance": []
    },
    "kernelspec": {
      "display_name": "Python 3",
      "name": "python3"
    },
    "language_info": {
      "name": "python"
    },
    "widgets": {
      "application/vnd.jupyter.widget-state+json": {
        "08020a14f4f045888f4589b275935a94": {
          "model_module": "@jupyter-widgets/base",
          "model_module_version": "1.2.0",
          "model_name": "LayoutModel",
          "state": {
            "_model_module": "@jupyter-widgets/base",
            "_model_module_version": "1.2.0",
            "_model_name": "LayoutModel",
            "_view_count": null,
            "_view_module": "@jupyter-widgets/base",
            "_view_module_version": "1.2.0",
            "_view_name": "LayoutView",
            "align_content": null,
            "align_items": null,
            "align_self": null,
            "border": null,
            "bottom": null,
            "display": null,
            "flex": null,
            "flex_flow": null,
            "grid_area": null,
            "grid_auto_columns": null,
            "grid_auto_flow": null,
            "grid_auto_rows": null,
            "grid_column": null,
            "grid_gap": null,
            "grid_row": null,
            "grid_template_areas": null,
            "grid_template_columns": null,
            "grid_template_rows": null,
            "height": null,
            "justify_content": null,
            "justify_items": null,
            "left": null,
            "margin": null,
            "max_height": null,
            "max_width": null,
            "min_height": null,
            "min_width": null,
            "object_fit": null,
            "object_position": null,
            "order": null,
            "overflow": null,
            "overflow_x": null,
            "overflow_y": null,
            "padding": null,
            "right": null,
            "top": null,
            "visibility": null,
            "width": null
          }
        },
        "1122637fa8f84f05b8f946bdbd2ac504": {
          "model_module": "@jupyter-widgets/controls",
          "model_module_version": "1.5.0",
          "model_name": "HTMLModel",
          "state": {
            "_dom_classes": [],
            "_model_module": "@jupyter-widgets/controls",
            "_model_module_version": "1.5.0",
            "_model_name": "HTMLModel",
            "_view_count": null,
            "_view_module": "@jupyter-widgets/controls",
            "_view_module_version": "1.5.0",
            "_view_name": "HTMLView",
            "description": "",
            "description_tooltip": null,
            "layout": "IPY_MODEL_21822be52fe74f23a53a282fa5d55b9b",
            "placeholder": "​",
            "style": "IPY_MODEL_4537961b27944a5cb5903acf34b72992",
            "value": " 466k/466k [00:00&lt;00:00, 31.6MB/s]"
          }
        },
        "16cd32be68664c53b753052901cb0eed": {
          "model_module": "@jupyter-widgets/base",
          "model_module_version": "1.2.0",
          "model_name": "LayoutModel",
          "state": {
            "_model_module": "@jupyter-widgets/base",
            "_model_module_version": "1.2.0",
            "_model_name": "LayoutModel",
            "_view_count": null,
            "_view_module": "@jupyter-widgets/base",
            "_view_module_version": "1.2.0",
            "_view_name": "LayoutView",
            "align_content": null,
            "align_items": null,
            "align_self": null,
            "border": null,
            "bottom": null,
            "display": null,
            "flex": null,
            "flex_flow": null,
            "grid_area": null,
            "grid_auto_columns": null,
            "grid_auto_flow": null,
            "grid_auto_rows": null,
            "grid_column": null,
            "grid_gap": null,
            "grid_row": null,
            "grid_template_areas": null,
            "grid_template_columns": null,
            "grid_template_rows": null,
            "height": null,
            "justify_content": null,
            "justify_items": null,
            "left": null,
            "margin": null,
            "max_height": null,
            "max_width": null,
            "min_height": null,
            "min_width": null,
            "object_fit": null,
            "object_position": null,
            "order": null,
            "overflow": null,
            "overflow_x": null,
            "overflow_y": null,
            "padding": null,
            "right": null,
            "top": null,
            "visibility": null,
            "width": null
          }
        },
        "1755ad8dcfed4554b8ea3c5f4493a3bd": {
          "model_module": "@jupyter-widgets/controls",
          "model_module_version": "1.5.0",
          "model_name": "DescriptionStyleModel",
          "state": {
            "_model_module": "@jupyter-widgets/controls",
            "_model_module_version": "1.5.0",
            "_model_name": "DescriptionStyleModel",
            "_view_count": null,
            "_view_module": "@jupyter-widgets/base",
            "_view_module_version": "1.2.0",
            "_view_name": "StyleView",
            "description_width": ""
          }
        },
        "21822be52fe74f23a53a282fa5d55b9b": {
          "model_module": "@jupyter-widgets/base",
          "model_module_version": "1.2.0",
          "model_name": "LayoutModel",
          "state": {
            "_model_module": "@jupyter-widgets/base",
            "_model_module_version": "1.2.0",
            "_model_name": "LayoutModel",
            "_view_count": null,
            "_view_module": "@jupyter-widgets/base",
            "_view_module_version": "1.2.0",
            "_view_name": "LayoutView",
            "align_content": null,
            "align_items": null,
            "align_self": null,
            "border": null,
            "bottom": null,
            "display": null,
            "flex": null,
            "flex_flow": null,
            "grid_area": null,
            "grid_auto_columns": null,
            "grid_auto_flow": null,
            "grid_auto_rows": null,
            "grid_column": null,
            "grid_gap": null,
            "grid_row": null,
            "grid_template_areas": null,
            "grid_template_columns": null,
            "grid_template_rows": null,
            "height": null,
            "justify_content": null,
            "justify_items": null,
            "left": null,
            "margin": null,
            "max_height": null,
            "max_width": null,
            "min_height": null,
            "min_width": null,
            "object_fit": null,
            "object_position": null,
            "order": null,
            "overflow": null,
            "overflow_x": null,
            "overflow_y": null,
            "padding": null,
            "right": null,
            "top": null,
            "visibility": null,
            "width": null
          }
        },
        "30ded56fa08240f0b424e9747cb749d4": {
          "model_module": "@jupyter-widgets/controls",
          "model_module_version": "1.5.0",
          "model_name": "HBoxModel",
          "state": {
            "_dom_classes": [],
            "_model_module": "@jupyter-widgets/controls",
            "_model_module_version": "1.5.0",
            "_model_name": "HBoxModel",
            "_view_count": null,
            "_view_module": "@jupyter-widgets/controls",
            "_view_module_version": "1.5.0",
            "_view_name": "HBoxView",
            "box_style": "",
            "children": [
              "IPY_MODEL_7b619ea8e7824211b7ececaf6fccb7a7",
              "IPY_MODEL_e63b0c60e9c648d68dcf97a2defda615",
              "IPY_MODEL_b3c7f51412684ddcb3cb9979d5f7715c"
            ],
            "layout": "IPY_MODEL_bcb4de4923604dcf99ee560e677f181f"
          }
        },
        "333c4593b1fb42fa8d5518828e4ebb76": {
          "model_module": "@jupyter-widgets/controls",
          "model_module_version": "1.5.0",
          "model_name": "ProgressStyleModel",
          "state": {
            "_model_module": "@jupyter-widgets/controls",
            "_model_module_version": "1.5.0",
            "_model_name": "ProgressStyleModel",
            "_view_count": null,
            "_view_module": "@jupyter-widgets/base",
            "_view_module_version": "1.2.0",
            "_view_name": "StyleView",
            "bar_color": null,
            "description_width": ""
          }
        },
        "33edf698d5a64ec2b4cf595c8bde57f7": {
          "model_module": "@jupyter-widgets/controls",
          "model_module_version": "1.5.0",
          "model_name": "DescriptionStyleModel",
          "state": {
            "_model_module": "@jupyter-widgets/controls",
            "_model_module_version": "1.5.0",
            "_model_name": "DescriptionStyleModel",
            "_view_count": null,
            "_view_module": "@jupyter-widgets/base",
            "_view_module_version": "1.2.0",
            "_view_name": "StyleView",
            "description_width": ""
          }
        },
        "4537961b27944a5cb5903acf34b72992": {
          "model_module": "@jupyter-widgets/controls",
          "model_module_version": "1.5.0",
          "model_name": "DescriptionStyleModel",
          "state": {
            "_model_module": "@jupyter-widgets/controls",
            "_model_module_version": "1.5.0",
            "_model_name": "DescriptionStyleModel",
            "_view_count": null,
            "_view_module": "@jupyter-widgets/base",
            "_view_module_version": "1.2.0",
            "_view_name": "StyleView",
            "description_width": ""
          }
        },
        "47ae471f79d24dbab344652f92da4cd7": {
          "model_module": "@jupyter-widgets/controls",
          "model_module_version": "1.5.0",
          "model_name": "ProgressStyleModel",
          "state": {
            "_model_module": "@jupyter-widgets/controls",
            "_model_module_version": "1.5.0",
            "_model_name": "ProgressStyleModel",
            "_view_count": null,
            "_view_module": "@jupyter-widgets/base",
            "_view_module_version": "1.2.0",
            "_view_name": "StyleView",
            "bar_color": null,
            "description_width": ""
          }
        },
        "4849b4d6be3a4d8bb99cf9bc01541f09": {
          "model_module": "@jupyter-widgets/controls",
          "model_module_version": "1.5.0",
          "model_name": "HTMLModel",
          "state": {
            "_dom_classes": [],
            "_model_module": "@jupyter-widgets/controls",
            "_model_module_version": "1.5.0",
            "_model_name": "HTMLModel",
            "_view_count": null,
            "_view_module": "@jupyter-widgets/controls",
            "_view_module_version": "1.5.0",
            "_view_name": "HTMLView",
            "description": "",
            "description_tooltip": null,
            "layout": "IPY_MODEL_8718a76ee4564cd7af67b4a5556aebb5",
            "placeholder": "​",
            "style": "IPY_MODEL_33edf698d5a64ec2b4cf595c8bde57f7",
            "value": " 48.0/48.0 [00:00&lt;00:00, 2.57kB/s]"
          }
        },
        "535ba94016ea4a4b98acb947d7429936": {
          "model_module": "@jupyter-widgets/base",
          "model_module_version": "1.2.0",
          "model_name": "LayoutModel",
          "state": {
            "_model_module": "@jupyter-widgets/base",
            "_model_module_version": "1.2.0",
            "_model_name": "LayoutModel",
            "_view_count": null,
            "_view_module": "@jupyter-widgets/base",
            "_view_module_version": "1.2.0",
            "_view_name": "LayoutView",
            "align_content": null,
            "align_items": null,
            "align_self": null,
            "border": null,
            "bottom": null,
            "display": null,
            "flex": null,
            "flex_flow": null,
            "grid_area": null,
            "grid_auto_columns": null,
            "grid_auto_flow": null,
            "grid_auto_rows": null,
            "grid_column": null,
            "grid_gap": null,
            "grid_row": null,
            "grid_template_areas": null,
            "grid_template_columns": null,
            "grid_template_rows": null,
            "height": null,
            "justify_content": null,
            "justify_items": null,
            "left": null,
            "margin": null,
            "max_height": null,
            "max_width": null,
            "min_height": null,
            "min_width": null,
            "object_fit": null,
            "object_position": null,
            "order": null,
            "overflow": null,
            "overflow_x": null,
            "overflow_y": null,
            "padding": null,
            "right": null,
            "top": null,
            "visibility": null,
            "width": null
          }
        },
        "59f4212efa744094b90981dd2507d6e0": {
          "model_module": "@jupyter-widgets/controls",
          "model_module_version": "1.5.0",
          "model_name": "ProgressStyleModel",
          "state": {
            "_model_module": "@jupyter-widgets/controls",
            "_model_module_version": "1.5.0",
            "_model_name": "ProgressStyleModel",
            "_view_count": null,
            "_view_module": "@jupyter-widgets/base",
            "_view_module_version": "1.2.0",
            "_view_name": "StyleView",
            "bar_color": null,
            "description_width": ""
          }
        },
        "60ab46e8cd4648f59ea838fab0bca222": {
          "model_module": "@jupyter-widgets/controls",
          "model_module_version": "1.5.0",
          "model_name": "FloatProgressModel",
          "state": {
            "_dom_classes": [],
            "_model_module": "@jupyter-widgets/controls",
            "_model_module_version": "1.5.0",
            "_model_name": "FloatProgressModel",
            "_view_count": null,
            "_view_module": "@jupyter-widgets/controls",
            "_view_module_version": "1.5.0",
            "_view_name": "ProgressView",
            "bar_style": "success",
            "description": "",
            "description_tooltip": null,
            "layout": "IPY_MODEL_dc5d2fa77b914a94981205b01e4e7c77",
            "max": 48,
            "min": 0,
            "orientation": "horizontal",
            "style": "IPY_MODEL_59f4212efa744094b90981dd2507d6e0",
            "value": 48
          }
        },
        "67a41294363742a7a0f98968344d0d52": {
          "model_module": "@jupyter-widgets/base",
          "model_module_version": "1.2.0",
          "model_name": "LayoutModel",
          "state": {
            "_model_module": "@jupyter-widgets/base",
            "_model_module_version": "1.2.0",
            "_model_name": "LayoutModel",
            "_view_count": null,
            "_view_module": "@jupyter-widgets/base",
            "_view_module_version": "1.2.0",
            "_view_name": "LayoutView",
            "align_content": null,
            "align_items": null,
            "align_self": null,
            "border": null,
            "bottom": null,
            "display": null,
            "flex": null,
            "flex_flow": null,
            "grid_area": null,
            "grid_auto_columns": null,
            "grid_auto_flow": null,
            "grid_auto_rows": null,
            "grid_column": null,
            "grid_gap": null,
            "grid_row": null,
            "grid_template_areas": null,
            "grid_template_columns": null,
            "grid_template_rows": null,
            "height": null,
            "justify_content": null,
            "justify_items": null,
            "left": null,
            "margin": null,
            "max_height": null,
            "max_width": null,
            "min_height": null,
            "min_width": null,
            "object_fit": null,
            "object_position": null,
            "order": null,
            "overflow": null,
            "overflow_x": null,
            "overflow_y": null,
            "padding": null,
            "right": null,
            "top": null,
            "visibility": null,
            "width": null
          }
        },
        "6a0532c8e38d468eba8ff8547f660d56": {
          "model_module": "@jupyter-widgets/controls",
          "model_module_version": "1.5.0",
          "model_name": "HTMLModel",
          "state": {
            "_dom_classes": [],
            "_model_module": "@jupyter-widgets/controls",
            "_model_module_version": "1.5.0",
            "_model_name": "HTMLModel",
            "_view_count": null,
            "_view_module": "@jupyter-widgets/controls",
            "_view_module_version": "1.5.0",
            "_view_name": "HTMLView",
            "description": "",
            "description_tooltip": null,
            "layout": "IPY_MODEL_08020a14f4f045888f4589b275935a94",
            "placeholder": "​",
            "style": "IPY_MODEL_1755ad8dcfed4554b8ea3c5f4493a3bd",
            "value": "config.json: 100%"
          }
        },
        "6b2b6b697e6c4e84ae2c6526c8a9435f": {
          "model_module": "@jupyter-widgets/controls",
          "model_module_version": "1.5.0",
          "model_name": "FloatProgressModel",
          "state": {
            "_dom_classes": [],
            "_model_module": "@jupyter-widgets/controls",
            "_model_module_version": "1.5.0",
            "_model_name": "FloatProgressModel",
            "_view_count": null,
            "_view_module": "@jupyter-widgets/controls",
            "_view_module_version": "1.5.0",
            "_view_name": "ProgressView",
            "bar_style": "success",
            "description": "",
            "description_tooltip": null,
            "layout": "IPY_MODEL_67a41294363742a7a0f98968344d0d52",
            "max": 466062,
            "min": 0,
            "orientation": "horizontal",
            "style": "IPY_MODEL_47ae471f79d24dbab344652f92da4cd7",
            "value": 466062
          }
        },
        "7031e5bed0494917bb7875dc303f1b8b": {
          "model_module": "@jupyter-widgets/base",
          "model_module_version": "1.2.0",
          "model_name": "LayoutModel",
          "state": {
            "_model_module": "@jupyter-widgets/base",
            "_model_module_version": "1.2.0",
            "_model_name": "LayoutModel",
            "_view_count": null,
            "_view_module": "@jupyter-widgets/base",
            "_view_module_version": "1.2.0",
            "_view_name": "LayoutView",
            "align_content": null,
            "align_items": null,
            "align_self": null,
            "border": null,
            "bottom": null,
            "display": null,
            "flex": null,
            "flex_flow": null,
            "grid_area": null,
            "grid_auto_columns": null,
            "grid_auto_flow": null,
            "grid_auto_rows": null,
            "grid_column": null,
            "grid_gap": null,
            "grid_row": null,
            "grid_template_areas": null,
            "grid_template_columns": null,
            "grid_template_rows": null,
            "height": null,
            "justify_content": null,
            "justify_items": null,
            "left": null,
            "margin": null,
            "max_height": null,
            "max_width": null,
            "min_height": null,
            "min_width": null,
            "object_fit": null,
            "object_position": null,
            "order": null,
            "overflow": null,
            "overflow_x": null,
            "overflow_y": null,
            "padding": null,
            "right": null,
            "top": null,
            "visibility": null,
            "width": null
          }
        },
        "71990f49a0ed46d6bdfc92030d5507ff": {
          "model_module": "@jupyter-widgets/controls",
          "model_module_version": "1.5.0",
          "model_name": "DescriptionStyleModel",
          "state": {
            "_model_module": "@jupyter-widgets/controls",
            "_model_module_version": "1.5.0",
            "_model_name": "DescriptionStyleModel",
            "_view_count": null,
            "_view_module": "@jupyter-widgets/base",
            "_view_module_version": "1.2.0",
            "_view_name": "StyleView",
            "description_width": ""
          }
        },
        "7219ef29f4934244b49475c9266043bf": {
          "model_module": "@jupyter-widgets/base",
          "model_module_version": "1.2.0",
          "model_name": "LayoutModel",
          "state": {
            "_model_module": "@jupyter-widgets/base",
            "_model_module_version": "1.2.0",
            "_model_name": "LayoutModel",
            "_view_count": null,
            "_view_module": "@jupyter-widgets/base",
            "_view_module_version": "1.2.0",
            "_view_name": "LayoutView",
            "align_content": null,
            "align_items": null,
            "align_self": null,
            "border": null,
            "bottom": null,
            "display": null,
            "flex": null,
            "flex_flow": null,
            "grid_area": null,
            "grid_auto_columns": null,
            "grid_auto_flow": null,
            "grid_auto_rows": null,
            "grid_column": null,
            "grid_gap": null,
            "grid_row": null,
            "grid_template_areas": null,
            "grid_template_columns": null,
            "grid_template_rows": null,
            "height": null,
            "justify_content": null,
            "justify_items": null,
            "left": null,
            "margin": null,
            "max_height": null,
            "max_width": null,
            "min_height": null,
            "min_width": null,
            "object_fit": null,
            "object_position": null,
            "order": null,
            "overflow": null,
            "overflow_x": null,
            "overflow_y": null,
            "padding": null,
            "right": null,
            "top": null,
            "visibility": null,
            "width": null
          }
        },
        "79ca6743ce124e238c78aa1e0814895c": {
          "model_module": "@jupyter-widgets/controls",
          "model_module_version": "1.5.0",
          "model_name": "HTMLModel",
          "state": {
            "_dom_classes": [],
            "_model_module": "@jupyter-widgets/controls",
            "_model_module_version": "1.5.0",
            "_model_name": "HTMLModel",
            "_view_count": null,
            "_view_module": "@jupyter-widgets/controls",
            "_view_module_version": "1.5.0",
            "_view_name": "HTMLView",
            "description": "",
            "description_tooltip": null,
            "layout": "IPY_MODEL_b3d806ab9d38402488c79d5ee433e70e",
            "placeholder": "​",
            "style": "IPY_MODEL_fc70f483f3454bd3abdb187a32473b75",
            "value": "tokenizer_config.json: 100%"
          }
        },
        "7b619ea8e7824211b7ececaf6fccb7a7": {
          "model_module": "@jupyter-widgets/controls",
          "model_module_version": "1.5.0",
          "model_name": "HTMLModel",
          "state": {
            "_dom_classes": [],
            "_model_module": "@jupyter-widgets/controls",
            "_model_module_version": "1.5.0",
            "_model_name": "HTMLModel",
            "_view_count": null,
            "_view_module": "@jupyter-widgets/controls",
            "_view_module_version": "1.5.0",
            "_view_name": "HTMLView",
            "description": "",
            "description_tooltip": null,
            "layout": "IPY_MODEL_16cd32be68664c53b753052901cb0eed",
            "placeholder": "​",
            "style": "IPY_MODEL_a0a354a636d44e98be47aa916b01b399",
            "value": "vocab.txt: 100%"
          }
        },
        "7d3f3058980742dd84ccc443bf630e11": {
          "model_module": "@jupyter-widgets/controls",
          "model_module_version": "1.5.0",
          "model_name": "HBoxModel",
          "state": {
            "_dom_classes": [],
            "_model_module": "@jupyter-widgets/controls",
            "_model_module_version": "1.5.0",
            "_model_name": "HBoxModel",
            "_view_count": null,
            "_view_module": "@jupyter-widgets/controls",
            "_view_module_version": "1.5.0",
            "_view_name": "HBoxView",
            "box_style": "",
            "children": [
              "IPY_MODEL_79ca6743ce124e238c78aa1e0814895c",
              "IPY_MODEL_60ab46e8cd4648f59ea838fab0bca222",
              "IPY_MODEL_4849b4d6be3a4d8bb99cf9bc01541f09"
            ],
            "layout": "IPY_MODEL_a10851fb07154b3fa613bdda9869b857"
          }
        },
        "8718a76ee4564cd7af67b4a5556aebb5": {
          "model_module": "@jupyter-widgets/base",
          "model_module_version": "1.2.0",
          "model_name": "LayoutModel",
          "state": {
            "_model_module": "@jupyter-widgets/base",
            "_model_module_version": "1.2.0",
            "_model_name": "LayoutModel",
            "_view_count": null,
            "_view_module": "@jupyter-widgets/base",
            "_view_module_version": "1.2.0",
            "_view_name": "LayoutView",
            "align_content": null,
            "align_items": null,
            "align_self": null,
            "border": null,
            "bottom": null,
            "display": null,
            "flex": null,
            "flex_flow": null,
            "grid_area": null,
            "grid_auto_columns": null,
            "grid_auto_flow": null,
            "grid_auto_rows": null,
            "grid_column": null,
            "grid_gap": null,
            "grid_row": null,
            "grid_template_areas": null,
            "grid_template_columns": null,
            "grid_template_rows": null,
            "height": null,
            "justify_content": null,
            "justify_items": null,
            "left": null,
            "margin": null,
            "max_height": null,
            "max_width": null,
            "min_height": null,
            "min_width": null,
            "object_fit": null,
            "object_position": null,
            "order": null,
            "overflow": null,
            "overflow_x": null,
            "overflow_y": null,
            "padding": null,
            "right": null,
            "top": null,
            "visibility": null,
            "width": null
          }
        },
        "8bcfc9f2e3fa4214972a1a33df2ae536": {
          "model_module": "@jupyter-widgets/controls",
          "model_module_version": "1.5.0",
          "model_name": "ProgressStyleModel",
          "state": {
            "_model_module": "@jupyter-widgets/controls",
            "_model_module_version": "1.5.0",
            "_model_name": "ProgressStyleModel",
            "_view_count": null,
            "_view_module": "@jupyter-widgets/base",
            "_view_module_version": "1.2.0",
            "_view_name": "StyleView",
            "bar_color": null,
            "description_width": ""
          }
        },
        "918b44a24a9e4c97a50dd8632de998c7": {
          "model_module": "@jupyter-widgets/controls",
          "model_module_version": "1.5.0",
          "model_name": "HTMLModel",
          "state": {
            "_dom_classes": [],
            "_model_module": "@jupyter-widgets/controls",
            "_model_module_version": "1.5.0",
            "_model_name": "HTMLModel",
            "_view_count": null,
            "_view_module": "@jupyter-widgets/controls",
            "_view_module_version": "1.5.0",
            "_view_name": "HTMLView",
            "description": "",
            "description_tooltip": null,
            "layout": "IPY_MODEL_535ba94016ea4a4b98acb947d7429936",
            "placeholder": "​",
            "style": "IPY_MODEL_fd1a4f6e29b1428db87df1e0c79367c8",
            "value": " 483/483 [00:00&lt;00:00, 28.2kB/s]"
          }
        },
        "9b8ec367ec1b403b9ffe237c079f9a14": {
          "model_module": "@jupyter-widgets/controls",
          "model_module_version": "1.5.0",
          "model_name": "FloatProgressModel",
          "state": {
            "_dom_classes": [],
            "_model_module": "@jupyter-widgets/controls",
            "_model_module_version": "1.5.0",
            "_model_name": "FloatProgressModel",
            "_view_count": null,
            "_view_module": "@jupyter-widgets/controls",
            "_view_module_version": "1.5.0",
            "_view_name": "ProgressView",
            "bar_style": "success",
            "description": "",
            "description_tooltip": null,
            "layout": "IPY_MODEL_fb1c4db9c8c54c63934ed3781ce9b32e",
            "max": 483,
            "min": 0,
            "orientation": "horizontal",
            "style": "IPY_MODEL_8bcfc9f2e3fa4214972a1a33df2ae536",
            "value": 483
          }
        },
        "a0a354a636d44e98be47aa916b01b399": {
          "model_module": "@jupyter-widgets/controls",
          "model_module_version": "1.5.0",
          "model_name": "DescriptionStyleModel",
          "state": {
            "_model_module": "@jupyter-widgets/controls",
            "_model_module_version": "1.5.0",
            "_model_name": "DescriptionStyleModel",
            "_view_count": null,
            "_view_module": "@jupyter-widgets/base",
            "_view_module_version": "1.2.0",
            "_view_name": "StyleView",
            "description_width": ""
          }
        },
        "a10851fb07154b3fa613bdda9869b857": {
          "model_module": "@jupyter-widgets/base",
          "model_module_version": "1.2.0",
          "model_name": "LayoutModel",
          "state": {
            "_model_module": "@jupyter-widgets/base",
            "_model_module_version": "1.2.0",
            "_model_name": "LayoutModel",
            "_view_count": null,
            "_view_module": "@jupyter-widgets/base",
            "_view_module_version": "1.2.0",
            "_view_name": "LayoutView",
            "align_content": null,
            "align_items": null,
            "align_self": null,
            "border": null,
            "bottom": null,
            "display": null,
            "flex": null,
            "flex_flow": null,
            "grid_area": null,
            "grid_auto_columns": null,
            "grid_auto_flow": null,
            "grid_auto_rows": null,
            "grid_column": null,
            "grid_gap": null,
            "grid_row": null,
            "grid_template_areas": null,
            "grid_template_columns": null,
            "grid_template_rows": null,
            "height": null,
            "justify_content": null,
            "justify_items": null,
            "left": null,
            "margin": null,
            "max_height": null,
            "max_width": null,
            "min_height": null,
            "min_width": null,
            "object_fit": null,
            "object_position": null,
            "order": null,
            "overflow": null,
            "overflow_x": null,
            "overflow_y": null,
            "padding": null,
            "right": null,
            "top": null,
            "visibility": null,
            "width": null
          }
        },
        "b3c7f51412684ddcb3cb9979d5f7715c": {
          "model_module": "@jupyter-widgets/controls",
          "model_module_version": "1.5.0",
          "model_name": "HTMLModel",
          "state": {
            "_dom_classes": [],
            "_model_module": "@jupyter-widgets/controls",
            "_model_module_version": "1.5.0",
            "_model_name": "HTMLModel",
            "_view_count": null,
            "_view_module": "@jupyter-widgets/controls",
            "_view_module_version": "1.5.0",
            "_view_name": "HTMLView",
            "description": "",
            "description_tooltip": null,
            "layout": "IPY_MODEL_f96c46ff4743445696677de2089fdff0",
            "placeholder": "​",
            "style": "IPY_MODEL_71990f49a0ed46d6bdfc92030d5507ff",
            "value": " 232k/232k [00:00&lt;00:00, 9.25MB/s]"
          }
        },
        "b3d806ab9d38402488c79d5ee433e70e": {
          "model_module": "@jupyter-widgets/base",
          "model_module_version": "1.2.0",
          "model_name": "LayoutModel",
          "state": {
            "_model_module": "@jupyter-widgets/base",
            "_model_module_version": "1.2.0",
            "_model_name": "LayoutModel",
            "_view_count": null,
            "_view_module": "@jupyter-widgets/base",
            "_view_module_version": "1.2.0",
            "_view_name": "LayoutView",
            "align_content": null,
            "align_items": null,
            "align_self": null,
            "border": null,
            "bottom": null,
            "display": null,
            "flex": null,
            "flex_flow": null,
            "grid_area": null,
            "grid_auto_columns": null,
            "grid_auto_flow": null,
            "grid_auto_rows": null,
            "grid_column": null,
            "grid_gap": null,
            "grid_row": null,
            "grid_template_areas": null,
            "grid_template_columns": null,
            "grid_template_rows": null,
            "height": null,
            "justify_content": null,
            "justify_items": null,
            "left": null,
            "margin": null,
            "max_height": null,
            "max_width": null,
            "min_height": null,
            "min_width": null,
            "object_fit": null,
            "object_position": null,
            "order": null,
            "overflow": null,
            "overflow_x": null,
            "overflow_y": null,
            "padding": null,
            "right": null,
            "top": null,
            "visibility": null,
            "width": null
          }
        },
        "b47f5462e7b543609b11b1730b61507c": {
          "model_module": "@jupyter-widgets/base",
          "model_module_version": "1.2.0",
          "model_name": "LayoutModel",
          "state": {
            "_model_module": "@jupyter-widgets/base",
            "_model_module_version": "1.2.0",
            "_model_name": "LayoutModel",
            "_view_count": null,
            "_view_module": "@jupyter-widgets/base",
            "_view_module_version": "1.2.0",
            "_view_name": "LayoutView",
            "align_content": null,
            "align_items": null,
            "align_self": null,
            "border": null,
            "bottom": null,
            "display": null,
            "flex": null,
            "flex_flow": null,
            "grid_area": null,
            "grid_auto_columns": null,
            "grid_auto_flow": null,
            "grid_auto_rows": null,
            "grid_column": null,
            "grid_gap": null,
            "grid_row": null,
            "grid_template_areas": null,
            "grid_template_columns": null,
            "grid_template_rows": null,
            "height": null,
            "justify_content": null,
            "justify_items": null,
            "left": null,
            "margin": null,
            "max_height": null,
            "max_width": null,
            "min_height": null,
            "min_width": null,
            "object_fit": null,
            "object_position": null,
            "order": null,
            "overflow": null,
            "overflow_x": null,
            "overflow_y": null,
            "padding": null,
            "right": null,
            "top": null,
            "visibility": null,
            "width": null
          }
        },
        "bbcb0d4eed1d46839f62ab6938673678": {
          "model_module": "@jupyter-widgets/controls",
          "model_module_version": "1.5.0",
          "model_name": "HBoxModel",
          "state": {
            "_dom_classes": [],
            "_model_module": "@jupyter-widgets/controls",
            "_model_module_version": "1.5.0",
            "_model_name": "HBoxModel",
            "_view_count": null,
            "_view_module": "@jupyter-widgets/controls",
            "_view_module_version": "1.5.0",
            "_view_name": "HBoxView",
            "box_style": "",
            "children": [
              "IPY_MODEL_e483fcd6467043d0a6468d1d27a2b217",
              "IPY_MODEL_6b2b6b697e6c4e84ae2c6526c8a9435f",
              "IPY_MODEL_1122637fa8f84f05b8f946bdbd2ac504"
            ],
            "layout": "IPY_MODEL_7219ef29f4934244b49475c9266043bf"
          }
        },
        "bcb4de4923604dcf99ee560e677f181f": {
          "model_module": "@jupyter-widgets/base",
          "model_module_version": "1.2.0",
          "model_name": "LayoutModel",
          "state": {
            "_model_module": "@jupyter-widgets/base",
            "_model_module_version": "1.2.0",
            "_model_name": "LayoutModel",
            "_view_count": null,
            "_view_module": "@jupyter-widgets/base",
            "_view_module_version": "1.2.0",
            "_view_name": "LayoutView",
            "align_content": null,
            "align_items": null,
            "align_self": null,
            "border": null,
            "bottom": null,
            "display": null,
            "flex": null,
            "flex_flow": null,
            "grid_area": null,
            "grid_auto_columns": null,
            "grid_auto_flow": null,
            "grid_auto_rows": null,
            "grid_column": null,
            "grid_gap": null,
            "grid_row": null,
            "grid_template_areas": null,
            "grid_template_columns": null,
            "grid_template_rows": null,
            "height": null,
            "justify_content": null,
            "justify_items": null,
            "left": null,
            "margin": null,
            "max_height": null,
            "max_width": null,
            "min_height": null,
            "min_width": null,
            "object_fit": null,
            "object_position": null,
            "order": null,
            "overflow": null,
            "overflow_x": null,
            "overflow_y": null,
            "padding": null,
            "right": null,
            "top": null,
            "visibility": null,
            "width": null
          }
        },
        "cf0fec05370c44de89c9049d9dc6e455": {
          "model_module": "@jupyter-widgets/controls",
          "model_module_version": "1.5.0",
          "model_name": "HBoxModel",
          "state": {
            "_dom_classes": [],
            "_model_module": "@jupyter-widgets/controls",
            "_model_module_version": "1.5.0",
            "_model_name": "HBoxModel",
            "_view_count": null,
            "_view_module": "@jupyter-widgets/controls",
            "_view_module_version": "1.5.0",
            "_view_name": "HBoxView",
            "box_style": "",
            "children": [
              "IPY_MODEL_6a0532c8e38d468eba8ff8547f660d56",
              "IPY_MODEL_9b8ec367ec1b403b9ffe237c079f9a14",
              "IPY_MODEL_918b44a24a9e4c97a50dd8632de998c7"
            ],
            "layout": "IPY_MODEL_b47f5462e7b543609b11b1730b61507c"
          }
        },
        "d6d1388bce754c288955c27ea79d0028": {
          "model_module": "@jupyter-widgets/controls",
          "model_module_version": "1.5.0",
          "model_name": "DescriptionStyleModel",
          "state": {
            "_model_module": "@jupyter-widgets/controls",
            "_model_module_version": "1.5.0",
            "_model_name": "DescriptionStyleModel",
            "_view_count": null,
            "_view_module": "@jupyter-widgets/base",
            "_view_module_version": "1.2.0",
            "_view_name": "StyleView",
            "description_width": ""
          }
        },
        "db6888390adb4f7dbcac4f0a02aa3992": {
          "model_module": "@jupyter-widgets/base",
          "model_module_version": "1.2.0",
          "model_name": "LayoutModel",
          "state": {
            "_model_module": "@jupyter-widgets/base",
            "_model_module_version": "1.2.0",
            "_model_name": "LayoutModel",
            "_view_count": null,
            "_view_module": "@jupyter-widgets/base",
            "_view_module_version": "1.2.0",
            "_view_name": "LayoutView",
            "align_content": null,
            "align_items": null,
            "align_self": null,
            "border": null,
            "bottom": null,
            "display": null,
            "flex": null,
            "flex_flow": null,
            "grid_area": null,
            "grid_auto_columns": null,
            "grid_auto_flow": null,
            "grid_auto_rows": null,
            "grid_column": null,
            "grid_gap": null,
            "grid_row": null,
            "grid_template_areas": null,
            "grid_template_columns": null,
            "grid_template_rows": null,
            "height": null,
            "justify_content": null,
            "justify_items": null,
            "left": null,
            "margin": null,
            "max_height": null,
            "max_width": null,
            "min_height": null,
            "min_width": null,
            "object_fit": null,
            "object_position": null,
            "order": null,
            "overflow": null,
            "overflow_x": null,
            "overflow_y": null,
            "padding": null,
            "right": null,
            "top": null,
            "visibility": null,
            "width": null
          }
        },
        "dc5d2fa77b914a94981205b01e4e7c77": {
          "model_module": "@jupyter-widgets/base",
          "model_module_version": "1.2.0",
          "model_name": "LayoutModel",
          "state": {
            "_model_module": "@jupyter-widgets/base",
            "_model_module_version": "1.2.0",
            "_model_name": "LayoutModel",
            "_view_count": null,
            "_view_module": "@jupyter-widgets/base",
            "_view_module_version": "1.2.0",
            "_view_name": "LayoutView",
            "align_content": null,
            "align_items": null,
            "align_self": null,
            "border": null,
            "bottom": null,
            "display": null,
            "flex": null,
            "flex_flow": null,
            "grid_area": null,
            "grid_auto_columns": null,
            "grid_auto_flow": null,
            "grid_auto_rows": null,
            "grid_column": null,
            "grid_gap": null,
            "grid_row": null,
            "grid_template_areas": null,
            "grid_template_columns": null,
            "grid_template_rows": null,
            "height": null,
            "justify_content": null,
            "justify_items": null,
            "left": null,
            "margin": null,
            "max_height": null,
            "max_width": null,
            "min_height": null,
            "min_width": null,
            "object_fit": null,
            "object_position": null,
            "order": null,
            "overflow": null,
            "overflow_x": null,
            "overflow_y": null,
            "padding": null,
            "right": null,
            "top": null,
            "visibility": null,
            "width": null
          }
        },
        "e483fcd6467043d0a6468d1d27a2b217": {
          "model_module": "@jupyter-widgets/controls",
          "model_module_version": "1.5.0",
          "model_name": "HTMLModel",
          "state": {
            "_dom_classes": [],
            "_model_module": "@jupyter-widgets/controls",
            "_model_module_version": "1.5.0",
            "_model_name": "HTMLModel",
            "_view_count": null,
            "_view_module": "@jupyter-widgets/controls",
            "_view_module_version": "1.5.0",
            "_view_name": "HTMLView",
            "description": "",
            "description_tooltip": null,
            "layout": "IPY_MODEL_db6888390adb4f7dbcac4f0a02aa3992",
            "placeholder": "​",
            "style": "IPY_MODEL_d6d1388bce754c288955c27ea79d0028",
            "value": "tokenizer.json: 100%"
          }
        },
        "e63b0c60e9c648d68dcf97a2defda615": {
          "model_module": "@jupyter-widgets/controls",
          "model_module_version": "1.5.0",
          "model_name": "FloatProgressModel",
          "state": {
            "_dom_classes": [],
            "_model_module": "@jupyter-widgets/controls",
            "_model_module_version": "1.5.0",
            "_model_name": "FloatProgressModel",
            "_view_count": null,
            "_view_module": "@jupyter-widgets/controls",
            "_view_module_version": "1.5.0",
            "_view_name": "ProgressView",
            "bar_style": "success",
            "description": "",
            "description_tooltip": null,
            "layout": "IPY_MODEL_7031e5bed0494917bb7875dc303f1b8b",
            "max": 231508,
            "min": 0,
            "orientation": "horizontal",
            "style": "IPY_MODEL_333c4593b1fb42fa8d5518828e4ebb76",
            "value": 231508
          }
        },
        "f96c46ff4743445696677de2089fdff0": {
          "model_module": "@jupyter-widgets/base",
          "model_module_version": "1.2.0",
          "model_name": "LayoutModel",
          "state": {
            "_model_module": "@jupyter-widgets/base",
            "_model_module_version": "1.2.0",
            "_model_name": "LayoutModel",
            "_view_count": null,
            "_view_module": "@jupyter-widgets/base",
            "_view_module_version": "1.2.0",
            "_view_name": "LayoutView",
            "align_content": null,
            "align_items": null,
            "align_self": null,
            "border": null,
            "bottom": null,
            "display": null,
            "flex": null,
            "flex_flow": null,
            "grid_area": null,
            "grid_auto_columns": null,
            "grid_auto_flow": null,
            "grid_auto_rows": null,
            "grid_column": null,
            "grid_gap": null,
            "grid_row": null,
            "grid_template_areas": null,
            "grid_template_columns": null,
            "grid_template_rows": null,
            "height": null,
            "justify_content": null,
            "justify_items": null,
            "left": null,
            "margin": null,
            "max_height": null,
            "max_width": null,
            "min_height": null,
            "min_width": null,
            "object_fit": null,
            "object_position": null,
            "order": null,
            "overflow": null,
            "overflow_x": null,
            "overflow_y": null,
            "padding": null,
            "right": null,
            "top": null,
            "visibility": null,
            "width": null
          }
        },
        "fb1c4db9c8c54c63934ed3781ce9b32e": {
          "model_module": "@jupyter-widgets/base",
          "model_module_version": "1.2.0",
          "model_name": "LayoutModel",
          "state": {
            "_model_module": "@jupyter-widgets/base",
            "_model_module_version": "1.2.0",
            "_model_name": "LayoutModel",
            "_view_count": null,
            "_view_module": "@jupyter-widgets/base",
            "_view_module_version": "1.2.0",
            "_view_name": "LayoutView",
            "align_content": null,
            "align_items": null,
            "align_self": null,
            "border": null,
            "bottom": null,
            "display": null,
            "flex": null,
            "flex_flow": null,
            "grid_area": null,
            "grid_auto_columns": null,
            "grid_auto_flow": null,
            "grid_auto_rows": null,
            "grid_column": null,
            "grid_gap": null,
            "grid_row": null,
            "grid_template_areas": null,
            "grid_template_columns": null,
            "grid_template_rows": null,
            "height": null,
            "justify_content": null,
            "justify_items": null,
            "left": null,
            "margin": null,
            "max_height": null,
            "max_width": null,
            "min_height": null,
            "min_width": null,
            "object_fit": null,
            "object_position": null,
            "order": null,
            "overflow": null,
            "overflow_x": null,
            "overflow_y": null,
            "padding": null,
            "right": null,
            "top": null,
            "visibility": null,
            "width": null
          }
        },
        "fc70f483f3454bd3abdb187a32473b75": {
          "model_module": "@jupyter-widgets/controls",
          "model_module_version": "1.5.0",
          "model_name": "DescriptionStyleModel",
          "state": {
            "_model_module": "@jupyter-widgets/controls",
            "_model_module_version": "1.5.0",
            "_model_name": "DescriptionStyleModel",
            "_view_count": null,
            "_view_module": "@jupyter-widgets/base",
            "_view_module_version": "1.2.0",
            "_view_name": "StyleView",
            "description_width": ""
          }
        },
        "fd1a4f6e29b1428db87df1e0c79367c8": {
          "model_module": "@jupyter-widgets/controls",
          "model_module_version": "1.5.0",
          "model_name": "DescriptionStyleModel",
          "state": {
            "_model_module": "@jupyter-widgets/controls",
            "_model_module_version": "1.5.0",
            "_model_name": "DescriptionStyleModel",
            "_view_count": null,
            "_view_module": "@jupyter-widgets/base",
            "_view_module_version": "1.2.0",
            "_view_name": "StyleView",
            "description_width": ""
          }
        }
      }
    }
  },
  "nbformat": 4,
  "nbformat_minor": 0
}
