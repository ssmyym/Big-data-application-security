{
 "cells": [
  {
   "cell_type": "code",
   "execution_count": 2,
   "metadata": {},
   "outputs": [],
   "source": [
    "import sys\n",
    "import pandas as pd\n",
    "from tqdm import tqdm\n",
    "from collections import defaultdict\n",
    "import logging\n",
    "import re\n",
    "from datetime import datetime\n",
    "from pathlib import Path\n",
    "\n",
    "import numpy as np\n",
    "import pandas as pd\n",
    "import torch\n",
    "from sklearn.model_selection import StratifiedKFold\n",
    "from torch.utils.data import DataLoader, Dataset"
   ]
  },
  {
   "cell_type": "markdown",
   "metadata": {},
   "source": [
    "# 전처리"
   ]
  },
  {
   "cell_type": "code",
   "execution_count": 3,
   "metadata": {},
   "outputs": [],
   "source": [
    "import re\n",
    "\n",
    "def clean_text(text):\n",
    "    # 연도 값으로 시작하는 경우\n",
    "    text = re.sub(r'^(19|20|21)\\d{2}', ' ', text)\n",
    "    \n",
    "    # 월 값으로 시작하는 경우\n",
    "    text = re.sub(r'^(Jan|Feb|Mar|Apr|May|Jun|Jul|Aug|Sep|Oct|Nov|Dec)', ' ', text)\n",
    "    \n",
    "    # 시간 형식 (HH:MM:SS)\n",
    "    text = re.sub(r'\\d{2}:\\d{2}:\\d{2}', ' ', text)\n",
    "    \n",
    "    # \"pid\" 키와 숫자\n",
    "    text = re.sub(r'\"pid\"\\s?:\\s?\\d+,?\\s?', ' ', text)\n",
    "    # text = re.sub(r'\"pid\":\\s?\\d+,?\\s?', '', text)\n",
    "\n",
    "    # pid 제거로 제거되지 않은 대괄호 안의 pid 숫자 제거\n",
    "    text = re.sub(r'\\[\\d+\\]', ' ', text)\n",
    "    \n",
    "    # \"port\" 다음에 오는 숫자\n",
    "    text = re.sub(r'port\\s?\\d{1,5}', ' ', text)\n",
    "\n",
    "    # IP 주소\n",
    "    text = re.sub(r'\\d{1,3}\\.\\d{1,3}\\.\\d{1,3}\\.\\d{1,3}', ' ', text)\n",
    "    \n",
    "    # \"@timestamp\" 형식\n",
    "    text = re.sub(r'\"@timestamp\"\\s?:\\s?\"\\d{4}-\\d{2}-\\d{2}T\\d{2}:\\d{2}:\\d{2}Z?\"', ' ', text)\n",
    "    \n",
    "    # 날짜 형식 (YYYY-MM-DD)\n",
    "    text = re.sub(r'\\d{2,4}-\\d{1,2}-\\d{1,2}', ' ', text)\n",
    "    \n",
    "    # 마침표, 쉼표, 공백, - 이 2개 이상 연속으로 존재하고, A,B,T,Z 또는 ms가 없거나 1개 있다면 제거\n",
    "    text = re.sub(r'[\\.\\d,\\s-]+([ABTZ]|ms)?', ' ', text)\n",
    "    \n",
    "    # 정규 표현식을 사용하여 특수문자 제거\n",
    "    text = re.sub(r'[^a-zA-Z0-9\\s]', '', text)\n",
    "\n",
    "    return text"
   ]
  },
  {
   "cell_type": "code",
   "execution_count": 4,
   "metadata": {},
   "outputs": [
    {
     "data": {
      "text/html": [
       "<div>\n",
       "<style scoped>\n",
       "    .dataframe tbody tr th:only-of-type {\n",
       "        vertical-align: middle;\n",
       "    }\n",
       "\n",
       "    .dataframe tbody tr th {\n",
       "        vertical-align: top;\n",
       "    }\n",
       "\n",
       "    .dataframe thead th {\n",
       "        text-align: right;\n",
       "    }\n",
       "</style>\n",
       "<table border=\"1\" class=\"dataframe\">\n",
       "  <thead>\n",
       "    <tr style=\"text-align: right;\">\n",
       "      <th></th>\n",
       "      <th>id</th>\n",
       "      <th>level</th>\n",
       "      <th>full_log</th>\n",
       "    </tr>\n",
       "  </thead>\n",
       "  <tbody>\n",
       "    <tr>\n",
       "      <th>0</th>\n",
       "      <td>0</td>\n",
       "      <td>0</td>\n",
       "      <td>Sep 24 10:02:22 localhost kibana: {\"type\":\"err...</td>\n",
       "    </tr>\n",
       "    <tr>\n",
       "      <th>1</th>\n",
       "      <td>1</td>\n",
       "      <td>0</td>\n",
       "      <td>Feb  8 16:21:00 localhost logstash: [2021-02-0...</td>\n",
       "    </tr>\n",
       "    <tr>\n",
       "      <th>2</th>\n",
       "      <td>2</td>\n",
       "      <td>0</td>\n",
       "      <td>Jan 13 01:50:40 localhost kibana: {\"type\":\"err...</td>\n",
       "    </tr>\n",
       "    <tr>\n",
       "      <th>3</th>\n",
       "      <td>3</td>\n",
       "      <td>0</td>\n",
       "      <td>Jan  4 10:18:31 localhost kibana: {\"type\":\"err...</td>\n",
       "    </tr>\n",
       "    <tr>\n",
       "      <th>4</th>\n",
       "      <td>4</td>\n",
       "      <td>1</td>\n",
       "      <td>type=SYSCALL msg=audit(1603094402.016:52981): ...</td>\n",
       "    </tr>\n",
       "    <tr>\n",
       "      <th>...</th>\n",
       "      <td>...</td>\n",
       "      <td>...</td>\n",
       "      <td>...</td>\n",
       "    </tr>\n",
       "    <tr>\n",
       "      <th>472967</th>\n",
       "      <td>472967</td>\n",
       "      <td>0</td>\n",
       "      <td>Feb 28 10:10:06 localhost logstash: 7738   error:</td>\n",
       "    </tr>\n",
       "    <tr>\n",
       "      <th>472968</th>\n",
       "      <td>472968</td>\n",
       "      <td>1</td>\n",
       "      <td>type=SYSCALL msg=audit(1611890993.458:321827):...</td>\n",
       "    </tr>\n",
       "    <tr>\n",
       "      <th>472969</th>\n",
       "      <td>472969</td>\n",
       "      <td>0</td>\n",
       "      <td>Oct 12 02:20:29 localhost kibana: {\"type\":\"log...</td>\n",
       "    </tr>\n",
       "    <tr>\n",
       "      <th>472970</th>\n",
       "      <td>472970</td>\n",
       "      <td>0</td>\n",
       "      <td>Jan 15 09:02:43 localhost kibana: {\"type\":\"err...</td>\n",
       "    </tr>\n",
       "    <tr>\n",
       "      <th>472971</th>\n",
       "      <td>472971</td>\n",
       "      <td>0</td>\n",
       "      <td>Oct 12 04:27:47 localhost kibana: {\"type\":\"err...</td>\n",
       "    </tr>\n",
       "  </tbody>\n",
       "</table>\n",
       "<p>472972 rows × 3 columns</p>\n",
       "</div>"
      ],
      "text/plain": [
       "            id  level                                           full_log\n",
       "0            0      0  Sep 24 10:02:22 localhost kibana: {\"type\":\"err...\n",
       "1            1      0  Feb  8 16:21:00 localhost logstash: [2021-02-0...\n",
       "2            2      0  Jan 13 01:50:40 localhost kibana: {\"type\":\"err...\n",
       "3            3      0  Jan  4 10:18:31 localhost kibana: {\"type\":\"err...\n",
       "4            4      1  type=SYSCALL msg=audit(1603094402.016:52981): ...\n",
       "...        ...    ...                                                ...\n",
       "472967  472967      0  Feb 28 10:10:06 localhost logstash: 7738   error:\n",
       "472968  472968      1  type=SYSCALL msg=audit(1611890993.458:321827):...\n",
       "472969  472969      0  Oct 12 02:20:29 localhost kibana: {\"type\":\"log...\n",
       "472970  472970      0  Jan 15 09:02:43 localhost kibana: {\"type\":\"err...\n",
       "472971  472971      0  Oct 12 04:27:47 localhost kibana: {\"type\":\"err...\n",
       "\n",
       "[472972 rows x 3 columns]"
      ]
     },
     "execution_count": 4,
     "metadata": {},
     "output_type": "execute_result"
    }
   ],
   "source": [
    "df = pd.read_csv(\"./log_data/train.csv\")\n",
    "df"
   ]
  },
  {
   "cell_type": "code",
   "execution_count": 11,
   "metadata": {},
   "outputs": [
    {
     "data": {
      "image/png": "[encoded data removed]",
      "text/plain": [
       "<Figure size 1000x600 with 1 Axes>"
      ]
     },
     "metadata": {},
     "output_type": "display_data"
    }
   ],
   "source": [
    "import pandas as pd\n",
    "import matplotlib.pyplot as plt\n",
    "\n",
    "# 히스토그램 그리기\n",
    "plt.figure(figsize=(10, 6))\n",
    "n, bins, patches = plt.hist(df['level'], bins=7, edgecolor='k', alpha=0.7)\n",
    "plt.title('Distribution of Levels')\n",
    "plt.xlabel('Level')\n",
    "plt.ylabel('Frequency')\n",
    "plt.grid(True)\n",
    "\n",
    "# 각 레벨별 개수 계산\n",
    "counts = df['level'].value_counts().sort_index()\n",
    "\n",
    "# 각 막대 위에 텍스트 추가\n",
    "for count, bin_edge in zip(n, bins[:-1]):\n",
    "    plt.text(bin_edge + (bins[1] - bins[0]) / 2, count, str(int(count)), ha='center', va='bottom')\n",
    "\n",
    "plt.show()\n"
   ]
  },
  {
   "cell_type": "code",
   "execution_count": 39,
   "metadata": {},
   "outputs": [
    {
     "data": {
      "image/png": "[encoded data removed]",
      "text/plain": [
       "<Figure size 1000x600 with 1 Axes>"
      ]
     },
     "metadata": {},
     "output_type": "display_data"
    }
   ],
   "source": [
    "plt.figure(figsize=(10, 6))\n",
    "n, bins, patches = plt.hist([472972 ,59791], bins=2, edgecolor='k', alpha=0.7)\n",
    "plt.title('Distribution of Levels')\n",
    "plt.xlabel('Level')\n",
    "plt.ylabel('Frequency')\n",
    "plt.grid(True)\n",
    "\n",
    "# 각 레벨별 개수 계산\n",
    "counts = df['level'].value_counts().sort_index()\n",
    "\n",
    "# 각 막대 위에 텍스트 추가\n",
    "for count, bin_edge in zip(n, bins[:-1]):\n",
    "    plt.text(bin_edge + (bins[1] - bins[0]) / 2, count, str(int(count)), ha='center', va='bottom')\n",
    "\n",
    "plt.show()"
   ]
  },
  {
   "cell_type": "code",
   "execution_count": 16,
   "metadata": {},
   "outputs": [
    {
     "name": "stdout",
     "output_type": "stream",
     "text": [
      "                                                full_log  level  word_count\n",
      "0       localhost kibana typeerror timestamp   tagswa...      0          41\n",
      "1       localhost logstash   INFO logstash outputs el...      0          39\n",
      "2      typeSYSCALL gaudit   archc e syscall successye...      1          74\n",
      "3      typeSYSCALL gaudit   archc e syscall successye...      1          81\n",
      "4       localhost logstash   WARN logstash outputs el...      0          34\n",
      "...                                                  ...    ...         ...\n",
      "59786   localhost sshd  ad protocol version identific...      6          12\n",
      "59787   localhost kernel device virbr nic entered pro...      6           9\n",
      "59788   localhost kernel device enp s entered promisc...      6           9\n",
      "59789         localhost useradd  new group nametest GID       6           9\n",
      "59790   localhost sshd  error maximum authentication ...      6          14\n",
      "\n",
      "[59791 rows x 3 columns]\n"
     ]
    }
   ],
   "source": [
    "import pandas as pd\n",
    "\n",
    "\n",
    "# 각 항목에 대해 단어 개수를 계산하는 함수 정의\n",
    "def count_words(log_entry):\n",
    "    return len(log_entry.split(\" \"))\n",
    "\n",
    "# apply 메서드를 사용하여 각 항목에 대해 단어 개수를 계산하고 새로운 컬럼에 저장\n",
    "df['word_count'] = df['full_log'].apply(count_words)\n",
    "\n",
    "# 결과 출력\n",
    "print(df)\n",
    "\n"
   ]
  },
  {
   "cell_type": "code",
   "execution_count": null,
   "metadata": {},
   "outputs": [
    {
     "data": {
      "text/plain": [
       "10424"
      ]
     },
     "metadata": {},
     "output_type": "display_data"
    }
   ],
   "source": [
    "max(df['word_count'])"
   ]
  },
  {
   "cell_type": "code",
   "execution_count": 36,
   "metadata": {},
   "outputs": [
    {
     "data": {
      "text/plain": [
       "10424"
      ]
     },
     "execution_count": 36,
     "metadata": {},
     "output_type": "execute_result"
    }
   ],
   "source": [
    "max(df['word_count'])"
   ]
  },
  {
   "cell_type": "code",
   "execution_count": 35,
   "metadata": {},
   "outputs": [
    {
     "data": {
      "image/png": "[encoded data removed]",
      "text/plain": [
       "<Figure size 1000x600 with 1 Axes>"
      ]
     },
     "metadata": {},
     "output_type": "display_data"
    }
   ],
   "source": [
    "# word_count의 빈도 계산\n",
    "word_count_freq = df['word_count'].value_counts().sort_index()\n",
    "\n",
    "# 빈도수를 바 그래프로 시각화\n",
    "plt.figure(figsize=(10, 6))\n",
    "word_count_freq.plot(kind='bar', edgecolor='k', alpha=0.9)\n",
    "plt.title('Word Count Frequency in Full Log Entries')\n",
    "plt.xlabel('Word Count')\n",
    "plt.ylabel('Frequency')\n",
    "plt.grid(axis='y')\n",
    "plt.xticks(range(0, max(df['word_count']) + 1, 50), rotation=0)\n",
    "plt.xlim(0,140)\n",
    "plt.show()"
   ]
  },
  {
   "cell_type": "code",
   "execution_count": 22,
   "metadata": {},
   "outputs": [
    {
     "data": {
      "text/html": [
       "<div>\n",
       "<style scoped>\n",
       "    .dataframe tbody tr th:only-of-type {\n",
       "        vertical-align: middle;\n",
       "    }\n",
       "\n",
       "    .dataframe tbody tr th {\n",
       "        vertical-align: top;\n",
       "    }\n",
       "\n",
       "    .dataframe thead th {\n",
       "        text-align: right;\n",
       "    }\n",
       "</style>\n",
       "<table border=\"1\" class=\"dataframe\">\n",
       "  <thead>\n",
       "    <tr style=\"text-align: right;\">\n",
       "      <th></th>\n",
       "      <th>id</th>\n",
       "      <th>full_log</th>\n",
       "      <th>is_level_7</th>\n",
       "    </tr>\n",
       "  </thead>\n",
       "  <tbody>\n",
       "    <tr>\n",
       "      <th>0</th>\n",
       "      <td>1000000</td>\n",
       "      <td>Feb  8 15:47:26 localhost kibana: {\"type\":\"err...</td>\n",
       "      <td>True</td>\n",
       "    </tr>\n",
       "    <tr>\n",
       "      <th>1</th>\n",
       "      <td>1000042</td>\n",
       "      <td>type=SYSCALL msg=audit(1603156086.720:129819):...</td>\n",
       "      <td>True</td>\n",
       "    </tr>\n",
       "    <tr>\n",
       "      <th>2</th>\n",
       "      <td>1000071</td>\n",
       "      <td>Jan 29 04:23:06 localhost logstash: 3556     S...</td>\n",
       "      <td>True</td>\n",
       "    </tr>\n",
       "    <tr>\n",
       "      <th>3</th>\n",
       "      <td>1000082</td>\n",
       "      <td>Jan 19 04:37:23 localhost kibana: {\"type\":\"err...</td>\n",
       "      <td>True</td>\n",
       "    </tr>\n",
       "    <tr>\n",
       "      <th>4</th>\n",
       "      <td>1000083</td>\n",
       "      <td>Jan 18 09:27:39 localhost logstash: [2021-01-1...</td>\n",
       "      <td>True</td>\n",
       "    </tr>\n",
       "    <tr>\n",
       "      <th>...</th>\n",
       "      <td>...</td>\n",
       "      <td>...</td>\n",
       "      <td>...</td>\n",
       "    </tr>\n",
       "    <tr>\n",
       "      <th>830</th>\n",
       "      <td>1059446</td>\n",
       "      <td>type=SYSCALL msg=audit(1611888551.744:226950):...</td>\n",
       "      <td>True</td>\n",
       "    </tr>\n",
       "    <tr>\n",
       "      <th>831</th>\n",
       "      <td>1059488</td>\n",
       "      <td>Jan 13 00:30:29 localhost kibana: {\"type\":\"err...</td>\n",
       "      <td>True</td>\n",
       "    </tr>\n",
       "    <tr>\n",
       "      <th>832</th>\n",
       "      <td>1059497</td>\n",
       "      <td>type=SYSCALL msg=audit(1603072770.869:706): ar...</td>\n",
       "      <td>True</td>\n",
       "    </tr>\n",
       "    <tr>\n",
       "      <th>833</th>\n",
       "      <td>1059569</td>\n",
       "      <td>Feb 16 04:13:00 localhost logstash: [2021-02-1...</td>\n",
       "      <td>True</td>\n",
       "    </tr>\n",
       "    <tr>\n",
       "      <th>834</th>\n",
       "      <td>1059664</td>\n",
       "      <td>Dec 28 13:56:47 localhost kibana: {\"type\":\"log...</td>\n",
       "      <td>True</td>\n",
       "    </tr>\n",
       "  </tbody>\n",
       "</table>\n",
       "<p>835 rows × 3 columns</p>\n",
       "</div>"
      ],
      "text/plain": [
       "          id                                           full_log  is_level_7\n",
       "0    1000000  Feb  8 15:47:26 localhost kibana: {\"type\":\"err...        True\n",
       "1    1000042  type=SYSCALL msg=audit(1603156086.720:129819):...        True\n",
       "2    1000071  Jan 29 04:23:06 localhost logstash: 3556     S...        True\n",
       "3    1000082  Jan 19 04:37:23 localhost kibana: {\"type\":\"err...        True\n",
       "4    1000083  Jan 18 09:27:39 localhost logstash: [2021-01-1...        True\n",
       "..       ...                                                ...         ...\n",
       "830  1059446  type=SYSCALL msg=audit(1611888551.744:226950):...        True\n",
       "831  1059488  Jan 13 00:30:29 localhost kibana: {\"type\":\"err...        True\n",
       "832  1059497  type=SYSCALL msg=audit(1603072770.869:706): ar...        True\n",
       "833  1059569  Feb 16 04:13:00 localhost logstash: [2021-02-1...        True\n",
       "834  1059664  Dec 28 13:56:47 localhost kibana: {\"type\":\"log...        True\n",
       "\n",
       "[835 rows x 3 columns]"
      ]
     },
     "execution_count": 22,
     "metadata": {},
     "output_type": "execute_result"
    }
   ],
   "source": [
    "seven = pd.read_csv(\"level_7.csv\")\n",
    "seven"
   ]
  },
  {
   "cell_type": "markdown",
   "metadata": {},
   "source": [
    "### 추출한 7분류 데이터와 train(0~6) dataframe 합치기"
   ]
  },
  {
   "cell_type": "code",
   "execution_count": 26,
   "metadata": {},
   "outputs": [
    {
     "data": {
      "text/html": [
       "<div>\n",
       "<style scoped>\n",
       "    .dataframe tbody tr th:only-of-type {\n",
       "        vertical-align: middle;\n",
       "    }\n",
       "\n",
       "    .dataframe tbody tr th {\n",
       "        vertical-align: top;\n",
       "    }\n",
       "\n",
       "    .dataframe thead th {\n",
       "        text-align: right;\n",
       "    }\n",
       "</style>\n",
       "<table border=\"1\" class=\"dataframe\">\n",
       "  <thead>\n",
       "    <tr style=\"text-align: right;\">\n",
       "      <th></th>\n",
       "      <th>id</th>\n",
       "      <th>level</th>\n",
       "      <th>full_log</th>\n",
       "    </tr>\n",
       "  </thead>\n",
       "  <tbody>\n",
       "    <tr>\n",
       "      <th>0</th>\n",
       "      <td>0</td>\n",
       "      <td>0</td>\n",
       "      <td>Sep 24 10:02:22 localhost kibana: {\"type\":\"err...</td>\n",
       "    </tr>\n",
       "    <tr>\n",
       "      <th>1</th>\n",
       "      <td>1</td>\n",
       "      <td>0</td>\n",
       "      <td>Feb  8 16:21:00 localhost logstash: [2021-02-0...</td>\n",
       "    </tr>\n",
       "    <tr>\n",
       "      <th>2</th>\n",
       "      <td>2</td>\n",
       "      <td>0</td>\n",
       "      <td>Jan 13 01:50:40 localhost kibana: {\"type\":\"err...</td>\n",
       "    </tr>\n",
       "    <tr>\n",
       "      <th>3</th>\n",
       "      <td>3</td>\n",
       "      <td>0</td>\n",
       "      <td>Jan  4 10:18:31 localhost kibana: {\"type\":\"err...</td>\n",
       "    </tr>\n",
       "    <tr>\n",
       "      <th>4</th>\n",
       "      <td>4</td>\n",
       "      <td>1</td>\n",
       "      <td>type=SYSCALL msg=audit(1603094402.016:52981): ...</td>\n",
       "    </tr>\n",
       "    <tr>\n",
       "      <th>...</th>\n",
       "      <td>...</td>\n",
       "      <td>...</td>\n",
       "      <td>...</td>\n",
       "    </tr>\n",
       "    <tr>\n",
       "      <th>473802</th>\n",
       "      <td>1059446</td>\n",
       "      <td>7</td>\n",
       "      <td>type=SYSCALL msg=audit(1611888551.744:226950):...</td>\n",
       "    </tr>\n",
       "    <tr>\n",
       "      <th>473803</th>\n",
       "      <td>1059488</td>\n",
       "      <td>7</td>\n",
       "      <td>Jan 13 00:30:29 localhost kibana: {\"type\":\"err...</td>\n",
       "    </tr>\n",
       "    <tr>\n",
       "      <th>473804</th>\n",
       "      <td>1059497</td>\n",
       "      <td>7</td>\n",
       "      <td>type=SYSCALL msg=audit(1603072770.869:706): ar...</td>\n",
       "    </tr>\n",
       "    <tr>\n",
       "      <th>473805</th>\n",
       "      <td>1059569</td>\n",
       "      <td>7</td>\n",
       "      <td>Feb 16 04:13:00 localhost logstash: [2021-02-1...</td>\n",
       "    </tr>\n",
       "    <tr>\n",
       "      <th>473806</th>\n",
       "      <td>1059664</td>\n",
       "      <td>7</td>\n",
       "      <td>Dec 28 13:56:47 localhost kibana: {\"type\":\"log...</td>\n",
       "    </tr>\n",
       "  </tbody>\n",
       "</table>\n",
       "<p>473807 rows × 3 columns</p>\n",
       "</div>"
      ],
      "text/plain": [
       "             id  level                                           full_log\n",
       "0             0      0  Sep 24 10:02:22 localhost kibana: {\"type\":\"err...\n",
       "1             1      0  Feb  8 16:21:00 localhost logstash: [2021-02-0...\n",
       "2             2      0  Jan 13 01:50:40 localhost kibana: {\"type\":\"err...\n",
       "3             3      0  Jan  4 10:18:31 localhost kibana: {\"type\":\"err...\n",
       "4             4      1  type=SYSCALL msg=audit(1603094402.016:52981): ...\n",
       "...         ...    ...                                                ...\n",
       "473802  1059446      7  type=SYSCALL msg=audit(1611888551.744:226950):...\n",
       "473803  1059488      7  Jan 13 00:30:29 localhost kibana: {\"type\":\"err...\n",
       "473804  1059497      7  type=SYSCALL msg=audit(1603072770.869:706): ar...\n",
       "473805  1059569      7  Feb 16 04:13:00 localhost logstash: [2021-02-1...\n",
       "473806  1059664      7  Dec 28 13:56:47 localhost kibana: {\"type\":\"log...\n",
       "\n",
       "[473807 rows x 3 columns]"
      ]
     },
     "execution_count": 26,
     "metadata": {},
     "output_type": "execute_result"
    }
   ],
   "source": [
    "id = np.concatenate((df['id'].values,seven['id'].values))\n",
    "full_log = np.concatenate((df['full_log'].values,seven['full_log'].values))\n",
    "level= np.concatenate((df['level'].values,np.array([7]*len(seven))))\n",
    "\n",
    "new_df = pd.DataFrame({'id': id, 'level': level, 'full_log': full_log})\n",
    "new_df.to_csv(\"train_append_7.csv\",index = False)\n",
    "df = new_df\n",
    "new_df"
   ]
  },
  {
   "cell_type": "code",
   "execution_count": 4,
   "metadata": {},
   "outputs": [],
   "source": [
    "# 전처리 수행\n",
    "df['full_log'] = df['full_log'].apply(clean_text)\n",
    "df.to_csv(\"clean_train_7.csv\", index=False)"
   ]
  },
  {
   "cell_type": "markdown",
   "metadata": {},
   "source": [
    "# 중복제거"
   ]
  },
  {
   "cell_type": "code",
   "execution_count": 5,
   "metadata": {},
   "outputs": [
    {
     "name": "stdout",
     "output_type": "stream",
     "text": [
      "100%|███████████████████████████████████████████████████| 472972/472972 [00:02<00:00, 201194.37it/s]\n",
      "100%|█████████████████████████████████████████████████████| 59711/59711 [00:00<00:00, 237927.53it/s]\n"
     ]
    }
   ],
   "source": [
    "# 텍스트당 지정된 라벨과 개수를 저장\n",
    "db = {}  # {텍스트: 레벨: 개수}\n",
    "with tqdm(total=len(df), ncols=100, file=sys.stdout) as t:\n",
    "    for i, (level, full_log) in enumerate(zip(df.level, df.full_log)):\n",
    "        text = full_log\n",
    "        if text not in db:\n",
    "            db[text] = {}\n",
    "        if level not in db[text]:\n",
    "            db[text][level] = {\"cnt\": 0, \"list\": []}\n",
    "        db[text][level][\"cnt\"] += 1\n",
    "        db[text][level][\"list\"].append(i)\n",
    "\n",
    "        t.update()\n",
    "\n",
    "keys = list(db.keys())\n",
    "len(keys), len(df)\n",
    "# 여러 라벨로 분류된 텍스트 하나만 선택\n",
    "outdb = {\"level\": [], \"text\": []}\n",
    "with tqdm(total=len(keys), ncols=100, file=sys.stdout) as t:\n",
    "    for key in keys:\n",
    "        d = db[key]\n",
    "        if len(list(d.keys())) > 1:\n",
    "            # 가장 개수가 많은 level을 선택\n",
    "            cnts = sorted([(d[k][\"cnt\"], k) for k in d.keys()], reverse=True)\n",
    "\n",
    "            # 만약 개수가 같은게 있다면 가장 level이 작은 것을 선택\n",
    "            max_cnt = cnts[0][0]\n",
    "            same_ks = list(filter(lambda x: x[0] == max_cnt, cnts))\n",
    "            level = same_ks[-1][1]\n",
    "        else:\n",
    "            level = list(d.keys())[0]\n",
    "\n",
    "        outdb[\"level\"].append(level)\n",
    "        outdb[\"text\"].append(key)\n",
    "        t.update()"
   ]
  },
  {
   "cell_type": "code",
   "execution_count": 6,
   "metadata": {},
   "outputs": [
    {
     "data": {
      "text/html": [
       "<div>\n",
       "<style scoped>\n",
       "    .dataframe tbody tr th:only-of-type {\n",
       "        vertical-align: middle;\n",
       "    }\n",
       "\n",
       "    .dataframe tbody tr th {\n",
       "        vertical-align: top;\n",
       "    }\n",
       "\n",
       "    .dataframe thead th {\n",
       "        text-align: right;\n",
       "    }\n",
       "</style>\n",
       "<table border=\"1\" class=\"dataframe\">\n",
       "  <thead>\n",
       "    <tr style=\"text-align: right;\">\n",
       "      <th></th>\n",
       "      <th>full_log</th>\n",
       "      <th>level</th>\n",
       "    </tr>\n",
       "  </thead>\n",
       "  <tbody>\n",
       "    <tr>\n",
       "      <th>0</th>\n",
       "      <td>localhost kibana typeerror timestamp   tagswa...</td>\n",
       "      <td>0</td>\n",
       "    </tr>\n",
       "    <tr>\n",
       "      <th>1</th>\n",
       "      <td>localhost logstash   INFO logstash outputs el...</td>\n",
       "      <td>0</td>\n",
       "    </tr>\n",
       "    <tr>\n",
       "      <th>2</th>\n",
       "      <td>typeSYSCALL gaudit   archc e syscall successye...</td>\n",
       "      <td>1</td>\n",
       "    </tr>\n",
       "    <tr>\n",
       "      <th>3</th>\n",
       "      <td>typeSYSCALL gaudit   archc e syscall successye...</td>\n",
       "      <td>1</td>\n",
       "    </tr>\n",
       "    <tr>\n",
       "      <th>4</th>\n",
       "      <td>localhost logstash   WARN logstash outputs el...</td>\n",
       "      <td>0</td>\n",
       "    </tr>\n",
       "    <tr>\n",
       "      <th>...</th>\n",
       "      <td>...</td>\n",
       "      <td>...</td>\n",
       "    </tr>\n",
       "    <tr>\n",
       "      <th>59706</th>\n",
       "      <td>typeSYSCALL gaudit   archc e syscall successye...</td>\n",
       "      <td>1</td>\n",
       "    </tr>\n",
       "    <tr>\n",
       "      <th>59707</th>\n",
       "      <td>typeSYSCALL gaudit   archc e syscall successye...</td>\n",
       "      <td>1</td>\n",
       "    </tr>\n",
       "    <tr>\n",
       "      <th>59708</th>\n",
       "      <td>typeSYSCALL gaudit   archc e syscall successye...</td>\n",
       "      <td>1</td>\n",
       "    </tr>\n",
       "    <tr>\n",
       "      <th>59709</th>\n",
       "      <td>typeSYSCALL gaudit   archc e syscall successye...</td>\n",
       "      <td>1</td>\n",
       "    </tr>\n",
       "    <tr>\n",
       "      <th>59710</th>\n",
       "      <td>typeSYSCALL gaudit   archc e syscall successye...</td>\n",
       "      <td>1</td>\n",
       "    </tr>\n",
       "  </tbody>\n",
       "</table>\n",
       "<p>59711 rows × 2 columns</p>\n",
       "</div>"
      ],
      "text/plain": [
       "                                                full_log  level\n",
       "0       localhost kibana typeerror timestamp   tagswa...      0\n",
       "1       localhost logstash   INFO logstash outputs el...      0\n",
       "2      typeSYSCALL gaudit   archc e syscall successye...      1\n",
       "3      typeSYSCALL gaudit   archc e syscall successye...      1\n",
       "4       localhost logstash   WARN logstash outputs el...      0\n",
       "...                                                  ...    ...\n",
       "59706  typeSYSCALL gaudit   archc e syscall successye...      1\n",
       "59707  typeSYSCALL gaudit   archc e syscall successye...      1\n",
       "59708  typeSYSCALL gaudit   archc e syscall successye...      1\n",
       "59709  typeSYSCALL gaudit   archc e syscall successye...      1\n",
       "59710  typeSYSCALL gaudit   archc e syscall successye...      1\n",
       "\n",
       "[59711 rows x 2 columns]"
      ]
     },
     "execution_count": 6,
     "metadata": {},
     "output_type": "execute_result"
    }
   ],
   "source": [
    "data = pd.DataFrame({'full_log': outdb['text'], 'level': outdb['level']})\n",
    "data.to_csv(\"removed_duplicate_train_7.csv\",index=False)\n",
    "data"
   ]
  },
  {
   "cell_type": "code",
   "execution_count": 7,
   "metadata": {},
   "outputs": [
    {
     "data": {
      "text/plain": [
       "[3476, 55090, 1, 527, 2, 610, 5, 0]"
      ]
     },
     "execution_count": 7,
     "metadata": {},
     "output_type": "execute_result"
    }
   ],
   "source": [
    "# 데이터 확인\n",
    "[len(data[data['level'] == i]) for i in range(0,8)]"
   ]
  },
  {
   "cell_type": "code",
   "execution_count": 8,
   "metadata": {},
   "outputs": [
    {
     "name": "stdout",
     "output_type": "stream",
     "text": [
      "59719\n",
      "59727\n",
      "59735\n",
      "59743\n",
      "59751\n",
      "59759\n",
      "59767\n",
      "59775\n",
      "59783\n",
      "59791\n"
     ]
    }
   ],
   "source": [
    "# 데이터 복제\n",
    "temp = pd.concat([data[data['level'] == 2],data[data['level'] == 4],data[data['level'] == 6]])\n",
    "for _ in range(10):\n",
    "    data = pd.concat([data,temp])\n",
    "    print(len(data))\n",
    "data.to_csv(\"EDA_Dup_Oversampling.csv\",index = False)"
   ]
  },
  {
   "cell_type": "code",
   "execution_count": 12,
   "metadata": {},
   "outputs": [
    {
     "data": {
      "text/plain": [
       "(1    55090\n",
       " 0     3476\n",
       " 5      610\n",
       " 3      527\n",
       " 6       55\n",
       " 4       22\n",
       " 2       11\n",
       " Name: level, dtype: int64,\n",
       " 59791)"
      ]
     },
     "execution_count": 12,
     "metadata": {},
     "output_type": "execute_result"
    }
   ],
   "source": [
    "data['level'].value_counts(),len(data)"
   ]
  },
  {
   "cell_type": "markdown",
   "metadata": {},
   "source": [
    "# validation 데이터 전처리 및 Oversampling 수행"
   ]
  },
  {
   "cell_type": "code",
   "execution_count": 8,
   "metadata": {},
   "outputs": [
    {
     "data": {
      "text/html": [
       "<div>\n",
       "<style scoped>\n",
       "    .dataframe tbody tr th:only-of-type {\n",
       "        vertical-align: middle;\n",
       "    }\n",
       "\n",
       "    .dataframe tbody tr th {\n",
       "        vertical-align: top;\n",
       "    }\n",
       "\n",
       "    .dataframe thead th {\n",
       "        text-align: right;\n",
       "    }\n",
       "</style>\n",
       "<table border=\"1\" class=\"dataframe\">\n",
       "  <thead>\n",
       "    <tr style=\"text-align: right;\">\n",
       "      <th></th>\n",
       "      <th>id</th>\n",
       "      <th>full_log</th>\n",
       "    </tr>\n",
       "  </thead>\n",
       "  <tbody>\n",
       "    <tr>\n",
       "      <th>0</th>\n",
       "      <td>1000000</td>\n",
       "      <td>localhost kibana typeerror timestamp   tagswa...</td>\n",
       "    </tr>\n",
       "    <tr>\n",
       "      <th>1</th>\n",
       "      <td>1000001</td>\n",
       "      <td>localhost kibana typeerror timestamp   tagswa...</td>\n",
       "    </tr>\n",
       "    <tr>\n",
       "      <th>2</th>\n",
       "      <td>1000002</td>\n",
       "      <td>typeSYSCALL gaudit   archc e syscall successye...</td>\n",
       "    </tr>\n",
       "    <tr>\n",
       "      <th>3</th>\n",
       "      <td>1000003</td>\n",
       "      <td>localhost kibana typeerror timestamp   tagswa...</td>\n",
       "    </tr>\n",
       "    <tr>\n",
       "      <th>4</th>\n",
       "      <td>1000004</td>\n",
       "      <td>typeSYSCALL gaudit   archc e syscall successye...</td>\n",
       "    </tr>\n",
       "    <tr>\n",
       "      <th>...</th>\n",
       "      <td>...</td>\n",
       "      <td>...</td>\n",
       "    </tr>\n",
       "    <tr>\n",
       "      <th>1418911</th>\n",
       "      <td>2418911</td>\n",
       "      <td>localhost kibana typeerror timestamp   tagswa...</td>\n",
       "    </tr>\n",
       "    <tr>\n",
       "      <th>1418912</th>\n",
       "      <td>2418912</td>\n",
       "      <td>localhost kibana typelog timestamp   tagserro...</td>\n",
       "    </tr>\n",
       "    <tr>\n",
       "      <th>1418913</th>\n",
       "      <td>2418913</td>\n",
       "      <td>typeSYSCALL gaudit   archc e syscall successye...</td>\n",
       "    </tr>\n",
       "    <tr>\n",
       "      <th>1418914</th>\n",
       "      <td>2418914</td>\n",
       "      <td>localhost logstash   WARN logstash outputs el...</td>\n",
       "    </tr>\n",
       "    <tr>\n",
       "      <th>1418915</th>\n",
       "      <td>2418915</td>\n",
       "      <td>localhost kibana typeerror timestamp   tagswa...</td>\n",
       "    </tr>\n",
       "  </tbody>\n",
       "</table>\n",
       "<p>1418916 rows × 2 columns</p>\n",
       "</div>"
      ],
      "text/plain": [
       "              id                                           full_log\n",
       "0        1000000   localhost kibana typeerror timestamp   tagswa...\n",
       "1        1000001   localhost kibana typeerror timestamp   tagswa...\n",
       "2        1000002  typeSYSCALL gaudit   archc e syscall successye...\n",
       "3        1000003   localhost kibana typeerror timestamp   tagswa...\n",
       "4        1000004  typeSYSCALL gaudit   archc e syscall successye...\n",
       "...          ...                                                ...\n",
       "1418911  2418911   localhost kibana typeerror timestamp   tagswa...\n",
       "1418912  2418912   localhost kibana typelog timestamp   tagserro...\n",
       "1418913  2418913  typeSYSCALL gaudit   archc e syscall successye...\n",
       "1418914  2418914   localhost logstash   WARN logstash outputs el...\n",
       "1418915  2418915   localhost kibana typeerror timestamp   tagswa...\n",
       "\n",
       "[1418916 rows x 2 columns]"
      ]
     },
     "execution_count": 8,
     "metadata": {},
     "output_type": "execute_result"
    }
   ],
   "source": [
    "df = pd.read_csv(\"./log_data/test.csv\")\n",
    "df['full_log'] = df['full_log'].apply(clean_text)\n",
    "df"
   ]
  },
  {
   "cell_type": "code",
   "execution_count": 11,
   "metadata": {},
   "outputs": [],
   "source": [
    "df.to_csv(\"EDA_submission.csv\",index = False)"
   ]
  },
  {
   "cell_type": "markdown",
   "metadata": {},
   "source": [
    "#"
   ]
  },
  {
   "cell_type": "code",
   "execution_count": 2,
   "metadata": {},
   "outputs": [],
   "source": [
    "import pandas as pd\n",
    "submission = pd.read_csv(\"EDA_submission.csv\")"
   ]
  },
  {
   "cell_type": "code",
   "execution_count": 1,
   "metadata": {},
   "outputs": [
    {
     "name": "stderr",
     "output_type": "stream",
     "text": [
      "c:\\Users\\민병창\\AppData\\Local\\Programs\\Python\\Python310\\lib\\site-packages\\tqdm\\auto.py:21: TqdmWarning: IProgress not found. Please update jupyter and ipywidgets. See https://ipywidgets.readthedocs.io/en/stable/user_install.html\n",
      "  from .autonotebook import tqdm as notebook_tqdm\n"
     ]
    }
   ],
   "source": [
    "import torch\n",
    "from transformers import DistilBertTokenizer, DistilBertForSequenceClassification, AdamW\n",
    "from sklearn.model_selection import train_test_split\n",
    "from sklearn.metrics import accuracy_score\n",
    "import pandas as pd\n",
    "from torch.utils.data import DataLoader, TensorDataset, RandomSampler, SequentialSampler\n",
    "import numpy as np\n",
    "\n",
    "file_path = 'EDA_Dup_Oversampling.csv'\n",
    "df = pd.read_csv(file_path)\n",
    "# 입력 문장과 레이블 추출\n",
    "sentences = df['full_log'].tolist()\n",
    "\n",
    "# DistilBERT 토크나이저 로드\n",
    "tokenizer = DistilBertTokenizer.from_pretrained('distilbert-base-uncased')\n",
    "\n",
    "# 문장을 토큰화하고 패딩\n",
    "tokenized_texts = [tokenizer.encode_plus(\n",
    "    sent,\n",
    "    add_special_tokens=True,\n",
    "    max_length=200,\n",
    "    truncation=True,\n",
    "    padding='max_length',\n",
    "    return_attention_mask=True,\n",
    "    return_tensors='pt'\n",
    ") for sent in sentences]\n",
    "\n",
    "# 입력 IDs와 어텐션 마스크 추출 및 스택\n",
    "input_ids = torch.cat([item['input_ids'] for item in tokenized_texts], dim=0)\n",
    "attention_masks = torch.cat([item['attention_mask'] for item in tokenized_texts], dim=0)"
   ]
  },
  {
   "cell_type": "code",
   "execution_count": 2,
   "metadata": {},
   "outputs": [
    {
     "name": "stdout",
     "output_type": "stream",
     "text": [
      "Tensor saved to MyDrive/train_masks.pt\n",
      "Tensor saved to MyDrive/train_ids.pt\n"
     ]
    }
   ],
   "source": [
    "import torch\n",
    "\n",
    "\n",
    "# 텐서를 파일로 저장\n",
    "file_path ='MyDrive/train_masks.pt'\n",
    "torch.save(attention_masks, file_path)\n",
    "\n",
    "print(f\"Tensor saved to {file_path}\")\n",
    "# 텐서를 파일로 저장\n",
    "file_path = 'MyDrive/train_ids.pt'\n",
    "torch.save(input_ids, file_path)\n",
    "\n",
    "print(f\"Tensor saved to {file_path}\")"
   ]
  },
  {
   "cell_type": "code",
   "execution_count": null,
   "metadata": {},
   "outputs": [],
   "source": []
  }
 ],
 "metadata": {
  "kernelspec": {
   "display_name": "Python 3",
   "language": "python",
   "name": "python3"
  },
  "language_info": {
   "codemirror_mode": {
    "name": "ipython",
    "version": 3
   },
   "file_extension": ".py",
   "mimetype": "text/x-python",
   "name": "python",
   "nbconvert_exporter": "python",
   "pygments_lexer": "ipython3",
   "version": "3.9.16"
  }
 },
 "nbformat": 4,
 "nbformat_minor": 2
}
